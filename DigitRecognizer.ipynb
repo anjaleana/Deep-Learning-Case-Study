{
  "nbformat": 4,
  "nbformat_minor": 0,
  "metadata": {
    "colab": {
      "provenance": [],
      "collapsed_sections": []
    },
    "kernelspec": {
      "name": "python3",
      "display_name": "Python 3"
    },
    "language_info": {
      "name": "python"
    }
  },
  "cells": [
    {
      "cell_type": "code",
      "source": [
        "#!pip install np_utils"
      ],
      "metadata": {
        "id": "7W1a5RntYg7I"
      },
      "execution_count": null,
      "outputs": []
    },
    {
      "cell_type": "code",
      "source": [
        "#import tensorflow as tf\n",
        "#print(tf.__version__)"
      ],
      "metadata": {
        "id": "3RhfHdQk8f-6"
      },
      "execution_count": null,
      "outputs": []
    },
    {
      "cell_type": "code",
      "source": [
        "#!pip uninstall tensorflow \n",
        "#!pip install tensorflow==2.2.0 "
      ],
      "metadata": {
        "id": "wj116C0h82Mv"
      },
      "execution_count": null,
      "outputs": []
    },
    {
      "cell_type": "code",
      "source": [
        "import pandas as pd\n",
        "import tensorflow as tf\n",
        "from tensorflow.keras.models import Sequential\n",
        "from sklearn.model_selection import train_test_split\n",
        "from tensorflow.keras.models import Model\n",
        "from tensorflow.keras.layers import Dense,Input,Conv2D,MaxPool2D,MaxPooling2D,Activation,Dropout,Flatten,BatchNormalization,MaxPool1D\n",
        "from tensorflow.keras.optimizers import SGD,Adam\n",
        "import numpy as np\n"
      ],
      "metadata": {
        "id": "Z0FD5vUDMpps"
      },
      "execution_count": null,
      "outputs": []
    },
    {
      "cell_type": "code",
      "source": [
        "train_data = pd.read_csv('train.csv')\n",
        "train_data.head()"
      ],
      "metadata": {
        "colab": {
          "base_uri": "https://localhost:8080/",
          "height": 299
        },
        "id": "0hFXNnNbEhBi",
        "outputId": "11fcab3e-0552-4cd2-c51d-5ab3bfd8b42c"
      },
      "execution_count": null,
      "outputs": [
        {
          "output_type": "execute_result",
          "data": {
            "text/plain": [
              "   label  pixel0  pixel1  pixel2  pixel3  pixel4  pixel5  pixel6  pixel7  \\\n",
              "0      1       0       0       0       0       0       0       0       0   \n",
              "1      0       0       0       0       0       0       0       0       0   \n",
              "2      1       0       0       0       0       0       0       0       0   \n",
              "3      4       0       0       0       0       0       0       0       0   \n",
              "4      0       0       0       0       0       0       0       0       0   \n",
              "\n",
              "   pixel8  ...  pixel774  pixel775  pixel776  pixel777  pixel778  pixel779  \\\n",
              "0       0  ...         0         0         0         0         0         0   \n",
              "1       0  ...         0         0         0         0         0         0   \n",
              "2       0  ...         0         0         0         0         0         0   \n",
              "3       0  ...         0         0         0         0         0         0   \n",
              "4       0  ...         0         0         0         0         0         0   \n",
              "\n",
              "   pixel780  pixel781  pixel782  pixel783  \n",
              "0         0         0         0         0  \n",
              "1         0         0         0         0  \n",
              "2         0         0         0         0  \n",
              "3         0         0         0         0  \n",
              "4         0         0         0         0  \n",
              "\n",
              "[5 rows x 785 columns]"
            ],
            "text/html": [
              "\n",
              "  <div id=\"df-f2358d26-307e-432f-aa86-757e9741bfea\">\n",
              "    <div class=\"colab-df-container\">\n",
              "      <div>\n",
              "<style scoped>\n",
              "    .dataframe tbody tr th:only-of-type {\n",
              "        vertical-align: middle;\n",
              "    }\n",
              "\n",
              "    .dataframe tbody tr th {\n",
              "        vertical-align: top;\n",
              "    }\n",
              "\n",
              "    .dataframe thead th {\n",
              "        text-align: right;\n",
              "    }\n",
              "</style>\n",
              "<table border=\"1\" class=\"dataframe\">\n",
              "  <thead>\n",
              "    <tr style=\"text-align: right;\">\n",
              "      <th></th>\n",
              "      <th>label</th>\n",
              "      <th>pixel0</th>\n",
              "      <th>pixel1</th>\n",
              "      <th>pixel2</th>\n",
              "      <th>pixel3</th>\n",
              "      <th>pixel4</th>\n",
              "      <th>pixel5</th>\n",
              "      <th>pixel6</th>\n",
              "      <th>pixel7</th>\n",
              "      <th>pixel8</th>\n",
              "      <th>...</th>\n",
              "      <th>pixel774</th>\n",
              "      <th>pixel775</th>\n",
              "      <th>pixel776</th>\n",
              "      <th>pixel777</th>\n",
              "      <th>pixel778</th>\n",
              "      <th>pixel779</th>\n",
              "      <th>pixel780</th>\n",
              "      <th>pixel781</th>\n",
              "      <th>pixel782</th>\n",
              "      <th>pixel783</th>\n",
              "    </tr>\n",
              "  </thead>\n",
              "  <tbody>\n",
              "    <tr>\n",
              "      <th>0</th>\n",
              "      <td>1</td>\n",
              "      <td>0</td>\n",
              "      <td>0</td>\n",
              "      <td>0</td>\n",
              "      <td>0</td>\n",
              "      <td>0</td>\n",
              "      <td>0</td>\n",
              "      <td>0</td>\n",
              "      <td>0</td>\n",
              "      <td>0</td>\n",
              "      <td>...</td>\n",
              "      <td>0</td>\n",
              "      <td>0</td>\n",
              "      <td>0</td>\n",
              "      <td>0</td>\n",
              "      <td>0</td>\n",
              "      <td>0</td>\n",
              "      <td>0</td>\n",
              "      <td>0</td>\n",
              "      <td>0</td>\n",
              "      <td>0</td>\n",
              "    </tr>\n",
              "    <tr>\n",
              "      <th>1</th>\n",
              "      <td>0</td>\n",
              "      <td>0</td>\n",
              "      <td>0</td>\n",
              "      <td>0</td>\n",
              "      <td>0</td>\n",
              "      <td>0</td>\n",
              "      <td>0</td>\n",
              "      <td>0</td>\n",
              "      <td>0</td>\n",
              "      <td>0</td>\n",
              "      <td>...</td>\n",
              "      <td>0</td>\n",
              "      <td>0</td>\n",
              "      <td>0</td>\n",
              "      <td>0</td>\n",
              "      <td>0</td>\n",
              "      <td>0</td>\n",
              "      <td>0</td>\n",
              "      <td>0</td>\n",
              "      <td>0</td>\n",
              "      <td>0</td>\n",
              "    </tr>\n",
              "    <tr>\n",
              "      <th>2</th>\n",
              "      <td>1</td>\n",
              "      <td>0</td>\n",
              "      <td>0</td>\n",
              "      <td>0</td>\n",
              "      <td>0</td>\n",
              "      <td>0</td>\n",
              "      <td>0</td>\n",
              "      <td>0</td>\n",
              "      <td>0</td>\n",
              "      <td>0</td>\n",
              "      <td>...</td>\n",
              "      <td>0</td>\n",
              "      <td>0</td>\n",
              "      <td>0</td>\n",
              "      <td>0</td>\n",
              "      <td>0</td>\n",
              "      <td>0</td>\n",
              "      <td>0</td>\n",
              "      <td>0</td>\n",
              "      <td>0</td>\n",
              "      <td>0</td>\n",
              "    </tr>\n",
              "    <tr>\n",
              "      <th>3</th>\n",
              "      <td>4</td>\n",
              "      <td>0</td>\n",
              "      <td>0</td>\n",
              "      <td>0</td>\n",
              "      <td>0</td>\n",
              "      <td>0</td>\n",
              "      <td>0</td>\n",
              "      <td>0</td>\n",
              "      <td>0</td>\n",
              "      <td>0</td>\n",
              "      <td>...</td>\n",
              "      <td>0</td>\n",
              "      <td>0</td>\n",
              "      <td>0</td>\n",
              "      <td>0</td>\n",
              "      <td>0</td>\n",
              "      <td>0</td>\n",
              "      <td>0</td>\n",
              "      <td>0</td>\n",
              "      <td>0</td>\n",
              "      <td>0</td>\n",
              "    </tr>\n",
              "    <tr>\n",
              "      <th>4</th>\n",
              "      <td>0</td>\n",
              "      <td>0</td>\n",
              "      <td>0</td>\n",
              "      <td>0</td>\n",
              "      <td>0</td>\n",
              "      <td>0</td>\n",
              "      <td>0</td>\n",
              "      <td>0</td>\n",
              "      <td>0</td>\n",
              "      <td>0</td>\n",
              "      <td>...</td>\n",
              "      <td>0</td>\n",
              "      <td>0</td>\n",
              "      <td>0</td>\n",
              "      <td>0</td>\n",
              "      <td>0</td>\n",
              "      <td>0</td>\n",
              "      <td>0</td>\n",
              "      <td>0</td>\n",
              "      <td>0</td>\n",
              "      <td>0</td>\n",
              "    </tr>\n",
              "  </tbody>\n",
              "</table>\n",
              "<p>5 rows × 785 columns</p>\n",
              "</div>\n",
              "      <button class=\"colab-df-convert\" onclick=\"convertToInteractive('df-f2358d26-307e-432f-aa86-757e9741bfea')\"\n",
              "              title=\"Convert this dataframe to an interactive table.\"\n",
              "              style=\"display:none;\">\n",
              "        \n",
              "  <svg xmlns=\"http://www.w3.org/2000/svg\" height=\"24px\"viewBox=\"0 0 24 24\"\n",
              "       width=\"24px\">\n",
              "    <path d=\"M0 0h24v24H0V0z\" fill=\"none\"/>\n",
              "    <path d=\"M18.56 5.44l.94 2.06.94-2.06 2.06-.94-2.06-.94-.94-2.06-.94 2.06-2.06.94zm-11 1L8.5 8.5l.94-2.06 2.06-.94-2.06-.94L8.5 2.5l-.94 2.06-2.06.94zm10 10l.94 2.06.94-2.06 2.06-.94-2.06-.94-.94-2.06-.94 2.06-2.06.94z\"/><path d=\"M17.41 7.96l-1.37-1.37c-.4-.4-.92-.59-1.43-.59-.52 0-1.04.2-1.43.59L10.3 9.45l-7.72 7.72c-.78.78-.78 2.05 0 2.83L4 21.41c.39.39.9.59 1.41.59.51 0 1.02-.2 1.41-.59l7.78-7.78 2.81-2.81c.8-.78.8-2.07 0-2.86zM5.41 20L4 18.59l7.72-7.72 1.47 1.35L5.41 20z\"/>\n",
              "  </svg>\n",
              "      </button>\n",
              "      \n",
              "  <style>\n",
              "    .colab-df-container {\n",
              "      display:flex;\n",
              "      flex-wrap:wrap;\n",
              "      gap: 12px;\n",
              "    }\n",
              "\n",
              "    .colab-df-convert {\n",
              "      background-color: #E8F0FE;\n",
              "      border: none;\n",
              "      border-radius: 50%;\n",
              "      cursor: pointer;\n",
              "      display: none;\n",
              "      fill: #1967D2;\n",
              "      height: 32px;\n",
              "      padding: 0 0 0 0;\n",
              "      width: 32px;\n",
              "    }\n",
              "\n",
              "    .colab-df-convert:hover {\n",
              "      background-color: #E2EBFA;\n",
              "      box-shadow: 0px 1px 2px rgba(60, 64, 67, 0.3), 0px 1px 3px 1px rgba(60, 64, 67, 0.15);\n",
              "      fill: #174EA6;\n",
              "    }\n",
              "\n",
              "    [theme=dark] .colab-df-convert {\n",
              "      background-color: #3B4455;\n",
              "      fill: #D2E3FC;\n",
              "    }\n",
              "\n",
              "    [theme=dark] .colab-df-convert:hover {\n",
              "      background-color: #434B5C;\n",
              "      box-shadow: 0px 1px 3px 1px rgba(0, 0, 0, 0.15);\n",
              "      filter: drop-shadow(0px 1px 2px rgba(0, 0, 0, 0.3));\n",
              "      fill: #FFFFFF;\n",
              "    }\n",
              "  </style>\n",
              "\n",
              "      <script>\n",
              "        const buttonEl =\n",
              "          document.querySelector('#df-f2358d26-307e-432f-aa86-757e9741bfea button.colab-df-convert');\n",
              "        buttonEl.style.display =\n",
              "          google.colab.kernel.accessAllowed ? 'block' : 'none';\n",
              "\n",
              "        async function convertToInteractive(key) {\n",
              "          const element = document.querySelector('#df-f2358d26-307e-432f-aa86-757e9741bfea');\n",
              "          const dataTable =\n",
              "            await google.colab.kernel.invokeFunction('convertToInteractive',\n",
              "                                                     [key], {});\n",
              "          if (!dataTable) return;\n",
              "\n",
              "          const docLinkHtml = 'Like what you see? Visit the ' +\n",
              "            '<a target=\"_blank\" href=https://colab.research.google.com/notebooks/data_table.ipynb>data table notebook</a>'\n",
              "            + ' to learn more about interactive tables.';\n",
              "          element.innerHTML = '';\n",
              "          dataTable['output_type'] = 'display_data';\n",
              "          await google.colab.output.renderOutput(dataTable, element);\n",
              "          const docLink = document.createElement('div');\n",
              "          docLink.innerHTML = docLinkHtml;\n",
              "          element.appendChild(docLink);\n",
              "        }\n",
              "      </script>\n",
              "    </div>\n",
              "  </div>\n",
              "  "
            ]
          },
          "metadata": {},
          "execution_count": 244
        }
      ]
    },
    {
      "cell_type": "code",
      "source": [
        "test_data = pd.read_csv('test.csv')\n",
        "test_data.head()"
      ],
      "metadata": {
        "colab": {
          "base_uri": "https://localhost:8080/",
          "height": 299
        },
        "id": "lMR2Lxo1MN6-",
        "outputId": "3de1b08e-6793-416d-8c39-287f262db528"
      },
      "execution_count": null,
      "outputs": [
        {
          "output_type": "execute_result",
          "data": {
            "text/plain": [
              "   pixel0  pixel1  pixel2  pixel3  pixel4  pixel5  pixel6  pixel7  pixel8  \\\n",
              "0       0       0       0       0       0       0       0       0       0   \n",
              "1       0       0       0       0       0       0       0       0       0   \n",
              "2       0       0       0       0       0       0       0       0       0   \n",
              "3       0       0       0       0       0       0       0       0       0   \n",
              "4       0       0       0       0       0       0       0       0       0   \n",
              "\n",
              "   pixel9  ...  pixel774  pixel775  pixel776  pixel777  pixel778  pixel779  \\\n",
              "0       0  ...         0         0         0         0         0         0   \n",
              "1       0  ...         0         0         0         0         0         0   \n",
              "2       0  ...         0         0         0         0         0         0   \n",
              "3       0  ...         0         0         0         0         0         0   \n",
              "4       0  ...         0         0         0         0         0         0   \n",
              "\n",
              "   pixel780  pixel781  pixel782  pixel783  \n",
              "0         0         0         0         0  \n",
              "1         0         0         0         0  \n",
              "2         0         0         0         0  \n",
              "3         0         0         0         0  \n",
              "4         0         0         0         0  \n",
              "\n",
              "[5 rows x 784 columns]"
            ],
            "text/html": [
              "\n",
              "  <div id=\"df-fa23ea58-9876-4717-8be3-384f766b6b7a\">\n",
              "    <div class=\"colab-df-container\">\n",
              "      <div>\n",
              "<style scoped>\n",
              "    .dataframe tbody tr th:only-of-type {\n",
              "        vertical-align: middle;\n",
              "    }\n",
              "\n",
              "    .dataframe tbody tr th {\n",
              "        vertical-align: top;\n",
              "    }\n",
              "\n",
              "    .dataframe thead th {\n",
              "        text-align: right;\n",
              "    }\n",
              "</style>\n",
              "<table border=\"1\" class=\"dataframe\">\n",
              "  <thead>\n",
              "    <tr style=\"text-align: right;\">\n",
              "      <th></th>\n",
              "      <th>pixel0</th>\n",
              "      <th>pixel1</th>\n",
              "      <th>pixel2</th>\n",
              "      <th>pixel3</th>\n",
              "      <th>pixel4</th>\n",
              "      <th>pixel5</th>\n",
              "      <th>pixel6</th>\n",
              "      <th>pixel7</th>\n",
              "      <th>pixel8</th>\n",
              "      <th>pixel9</th>\n",
              "      <th>...</th>\n",
              "      <th>pixel774</th>\n",
              "      <th>pixel775</th>\n",
              "      <th>pixel776</th>\n",
              "      <th>pixel777</th>\n",
              "      <th>pixel778</th>\n",
              "      <th>pixel779</th>\n",
              "      <th>pixel780</th>\n",
              "      <th>pixel781</th>\n",
              "      <th>pixel782</th>\n",
              "      <th>pixel783</th>\n",
              "    </tr>\n",
              "  </thead>\n",
              "  <tbody>\n",
              "    <tr>\n",
              "      <th>0</th>\n",
              "      <td>0</td>\n",
              "      <td>0</td>\n",
              "      <td>0</td>\n",
              "      <td>0</td>\n",
              "      <td>0</td>\n",
              "      <td>0</td>\n",
              "      <td>0</td>\n",
              "      <td>0</td>\n",
              "      <td>0</td>\n",
              "      <td>0</td>\n",
              "      <td>...</td>\n",
              "      <td>0</td>\n",
              "      <td>0</td>\n",
              "      <td>0</td>\n",
              "      <td>0</td>\n",
              "      <td>0</td>\n",
              "      <td>0</td>\n",
              "      <td>0</td>\n",
              "      <td>0</td>\n",
              "      <td>0</td>\n",
              "      <td>0</td>\n",
              "    </tr>\n",
              "    <tr>\n",
              "      <th>1</th>\n",
              "      <td>0</td>\n",
              "      <td>0</td>\n",
              "      <td>0</td>\n",
              "      <td>0</td>\n",
              "      <td>0</td>\n",
              "      <td>0</td>\n",
              "      <td>0</td>\n",
              "      <td>0</td>\n",
              "      <td>0</td>\n",
              "      <td>0</td>\n",
              "      <td>...</td>\n",
              "      <td>0</td>\n",
              "      <td>0</td>\n",
              "      <td>0</td>\n",
              "      <td>0</td>\n",
              "      <td>0</td>\n",
              "      <td>0</td>\n",
              "      <td>0</td>\n",
              "      <td>0</td>\n",
              "      <td>0</td>\n",
              "      <td>0</td>\n",
              "    </tr>\n",
              "    <tr>\n",
              "      <th>2</th>\n",
              "      <td>0</td>\n",
              "      <td>0</td>\n",
              "      <td>0</td>\n",
              "      <td>0</td>\n",
              "      <td>0</td>\n",
              "      <td>0</td>\n",
              "      <td>0</td>\n",
              "      <td>0</td>\n",
              "      <td>0</td>\n",
              "      <td>0</td>\n",
              "      <td>...</td>\n",
              "      <td>0</td>\n",
              "      <td>0</td>\n",
              "      <td>0</td>\n",
              "      <td>0</td>\n",
              "      <td>0</td>\n",
              "      <td>0</td>\n",
              "      <td>0</td>\n",
              "      <td>0</td>\n",
              "      <td>0</td>\n",
              "      <td>0</td>\n",
              "    </tr>\n",
              "    <tr>\n",
              "      <th>3</th>\n",
              "      <td>0</td>\n",
              "      <td>0</td>\n",
              "      <td>0</td>\n",
              "      <td>0</td>\n",
              "      <td>0</td>\n",
              "      <td>0</td>\n",
              "      <td>0</td>\n",
              "      <td>0</td>\n",
              "      <td>0</td>\n",
              "      <td>0</td>\n",
              "      <td>...</td>\n",
              "      <td>0</td>\n",
              "      <td>0</td>\n",
              "      <td>0</td>\n",
              "      <td>0</td>\n",
              "      <td>0</td>\n",
              "      <td>0</td>\n",
              "      <td>0</td>\n",
              "      <td>0</td>\n",
              "      <td>0</td>\n",
              "      <td>0</td>\n",
              "    </tr>\n",
              "    <tr>\n",
              "      <th>4</th>\n",
              "      <td>0</td>\n",
              "      <td>0</td>\n",
              "      <td>0</td>\n",
              "      <td>0</td>\n",
              "      <td>0</td>\n",
              "      <td>0</td>\n",
              "      <td>0</td>\n",
              "      <td>0</td>\n",
              "      <td>0</td>\n",
              "      <td>0</td>\n",
              "      <td>...</td>\n",
              "      <td>0</td>\n",
              "      <td>0</td>\n",
              "      <td>0</td>\n",
              "      <td>0</td>\n",
              "      <td>0</td>\n",
              "      <td>0</td>\n",
              "      <td>0</td>\n",
              "      <td>0</td>\n",
              "      <td>0</td>\n",
              "      <td>0</td>\n",
              "    </tr>\n",
              "  </tbody>\n",
              "</table>\n",
              "<p>5 rows × 784 columns</p>\n",
              "</div>\n",
              "      <button class=\"colab-df-convert\" onclick=\"convertToInteractive('df-fa23ea58-9876-4717-8be3-384f766b6b7a')\"\n",
              "              title=\"Convert this dataframe to an interactive table.\"\n",
              "              style=\"display:none;\">\n",
              "        \n",
              "  <svg xmlns=\"http://www.w3.org/2000/svg\" height=\"24px\"viewBox=\"0 0 24 24\"\n",
              "       width=\"24px\">\n",
              "    <path d=\"M0 0h24v24H0V0z\" fill=\"none\"/>\n",
              "    <path d=\"M18.56 5.44l.94 2.06.94-2.06 2.06-.94-2.06-.94-.94-2.06-.94 2.06-2.06.94zm-11 1L8.5 8.5l.94-2.06 2.06-.94-2.06-.94L8.5 2.5l-.94 2.06-2.06.94zm10 10l.94 2.06.94-2.06 2.06-.94-2.06-.94-.94-2.06-.94 2.06-2.06.94z\"/><path d=\"M17.41 7.96l-1.37-1.37c-.4-.4-.92-.59-1.43-.59-.52 0-1.04.2-1.43.59L10.3 9.45l-7.72 7.72c-.78.78-.78 2.05 0 2.83L4 21.41c.39.39.9.59 1.41.59.51 0 1.02-.2 1.41-.59l7.78-7.78 2.81-2.81c.8-.78.8-2.07 0-2.86zM5.41 20L4 18.59l7.72-7.72 1.47 1.35L5.41 20z\"/>\n",
              "  </svg>\n",
              "      </button>\n",
              "      \n",
              "  <style>\n",
              "    .colab-df-container {\n",
              "      display:flex;\n",
              "      flex-wrap:wrap;\n",
              "      gap: 12px;\n",
              "    }\n",
              "\n",
              "    .colab-df-convert {\n",
              "      background-color: #E8F0FE;\n",
              "      border: none;\n",
              "      border-radius: 50%;\n",
              "      cursor: pointer;\n",
              "      display: none;\n",
              "      fill: #1967D2;\n",
              "      height: 32px;\n",
              "      padding: 0 0 0 0;\n",
              "      width: 32px;\n",
              "    }\n",
              "\n",
              "    .colab-df-convert:hover {\n",
              "      background-color: #E2EBFA;\n",
              "      box-shadow: 0px 1px 2px rgba(60, 64, 67, 0.3), 0px 1px 3px 1px rgba(60, 64, 67, 0.15);\n",
              "      fill: #174EA6;\n",
              "    }\n",
              "\n",
              "    [theme=dark] .colab-df-convert {\n",
              "      background-color: #3B4455;\n",
              "      fill: #D2E3FC;\n",
              "    }\n",
              "\n",
              "    [theme=dark] .colab-df-convert:hover {\n",
              "      background-color: #434B5C;\n",
              "      box-shadow: 0px 1px 3px 1px rgba(0, 0, 0, 0.15);\n",
              "      filter: drop-shadow(0px 1px 2px rgba(0, 0, 0, 0.3));\n",
              "      fill: #FFFFFF;\n",
              "    }\n",
              "  </style>\n",
              "\n",
              "      <script>\n",
              "        const buttonEl =\n",
              "          document.querySelector('#df-fa23ea58-9876-4717-8be3-384f766b6b7a button.colab-df-convert');\n",
              "        buttonEl.style.display =\n",
              "          google.colab.kernel.accessAllowed ? 'block' : 'none';\n",
              "\n",
              "        async function convertToInteractive(key) {\n",
              "          const element = document.querySelector('#df-fa23ea58-9876-4717-8be3-384f766b6b7a');\n",
              "          const dataTable =\n",
              "            await google.colab.kernel.invokeFunction('convertToInteractive',\n",
              "                                                     [key], {});\n",
              "          if (!dataTable) return;\n",
              "\n",
              "          const docLinkHtml = 'Like what you see? Visit the ' +\n",
              "            '<a target=\"_blank\" href=https://colab.research.google.com/notebooks/data_table.ipynb>data table notebook</a>'\n",
              "            + ' to learn more about interactive tables.';\n",
              "          element.innerHTML = '';\n",
              "          dataTable['output_type'] = 'display_data';\n",
              "          await google.colab.output.renderOutput(dataTable, element);\n",
              "          const docLink = document.createElement('div');\n",
              "          docLink.innerHTML = docLinkHtml;\n",
              "          element.appendChild(docLink);\n",
              "        }\n",
              "      </script>\n",
              "    </div>\n",
              "  </div>\n",
              "  "
            ]
          },
          "metadata": {},
          "execution_count": 245
        }
      ]
    },
    {
      "cell_type": "code",
      "source": [
        "train_data['label'].value_counts()"
      ],
      "metadata": {
        "colab": {
          "base_uri": "https://localhost:8080/"
        },
        "id": "Bxw4vxmrMtfj",
        "outputId": "09abb6b8-8921-4d8d-d37a-a2561599d114"
      },
      "execution_count": null,
      "outputs": [
        {
          "output_type": "execute_result",
          "data": {
            "text/plain": [
              "1    4684\n",
              "7    4401\n",
              "3    4351\n",
              "9    4188\n",
              "2    4177\n",
              "6    4137\n",
              "0    4132\n",
              "4    4072\n",
              "8    4063\n",
              "5    3795\n",
              "Name: label, dtype: int64"
            ]
          },
          "metadata": {},
          "execution_count": 246
        }
      ]
    },
    {
      "cell_type": "markdown",
      "source": [
        "### Finding null values"
      ],
      "metadata": {
        "id": "pqco_2BhHAmw"
      }
    },
    {
      "cell_type": "code",
      "source": [
        "def f1_null(train_data):\n",
        "  count=train_data.isnull().sum().sum()\n",
        "  return count\n"
      ],
      "metadata": {
        "id": "bPPbamMgrapx"
      },
      "execution_count": null,
      "outputs": []
    },
    {
      "cell_type": "code",
      "source": [
        "count_null = f1_null(train_data)\n",
        "print(count_null)"
      ],
      "metadata": {
        "colab": {
          "base_uri": "https://localhost:8080/"
        },
        "id": "8poVft6ofT0x",
        "outputId": "945b223d-bec4-4976-b1b0-1129386b4aad"
      },
      "execution_count": null,
      "outputs": [
        {
          "output_type": "stream",
          "name": "stdout",
          "text": [
            "0\n"
          ]
        }
      ]
    },
    {
      "cell_type": "markdown",
      "source": [
        " **To check the duplicates values**"
      ],
      "metadata": {
        "id": "bGjLdwN0K7lK"
      }
    },
    {
      "cell_type": "code",
      "source": [
        "def f1_duplicates(train_data):\n",
        "  count=train_data.duplicated().sum().sum()\n",
        "  return count"
      ],
      "metadata": {
        "id": "h_CNCbN5K5vO"
      },
      "execution_count": null,
      "outputs": []
    },
    {
      "cell_type": "code",
      "source": [
        "count_duplicates = f1_duplicates(train_data)\n",
        "print(count_duplicates)"
      ],
      "metadata": {
        "colab": {
          "base_uri": "https://localhost:8080/"
        },
        "id": "MFbMWHR5J92g",
        "outputId": "77581445-7beb-4238-d1cf-ac93e34474b8"
      },
      "execution_count": null,
      "outputs": [
        {
          "output_type": "stream",
          "name": "stdout",
          "text": [
            "0\n"
          ]
        }
      ]
    },
    {
      "cell_type": "code",
      "source": [
        "print(train_data.shape)\n",
        "print(test_data.shape)"
      ],
      "metadata": {
        "colab": {
          "base_uri": "https://localhost:8080/"
        },
        "id": "5sFondW6MC5P",
        "outputId": "e3fe624b-9a38-40cf-f515-206427e5cf12"
      },
      "execution_count": null,
      "outputs": [
        {
          "output_type": "stream",
          "name": "stdout",
          "text": [
            "(42000, 785)\n",
            "(28000, 784)\n"
          ]
        }
      ]
    },
    {
      "cell_type": "markdown",
      "source": [
        "**Check the Column name for both train and test data set**"
      ],
      "metadata": {
        "id": "N9KiiyX1hcJc"
      }
    },
    {
      "cell_type": "code",
      "source": [
        "def to_check_column(train_data):\n",
        "  column_name = train_data.columns\n",
        "  return column_name"
      ],
      "metadata": {
        "id": "om4R_2u-fopp"
      },
      "execution_count": null,
      "outputs": []
    },
    {
      "cell_type": "code",
      "source": [
        "train_column_name = to_check_column(train_data)\n",
        "print(\"Column_name\",train_column_name)"
      ],
      "metadata": {
        "colab": {
          "base_uri": "https://localhost:8080/"
        },
        "id": "WcCDpOoPg0W4",
        "outputId": "5e705d09-7d9a-4afa-81ac-0d660fdc53fa"
      },
      "execution_count": null,
      "outputs": [
        {
          "output_type": "stream",
          "name": "stdout",
          "text": [
            "Column_name Index(['label', 'pixel0', 'pixel1', 'pixel2', 'pixel3', 'pixel4', 'pixel5',\n",
            "       'pixel6', 'pixel7', 'pixel8',\n",
            "       ...\n",
            "       'pixel774', 'pixel775', 'pixel776', 'pixel777', 'pixel778', 'pixel779',\n",
            "       'pixel780', 'pixel781', 'pixel782', 'pixel783'],\n",
            "      dtype='object', length=785)\n"
          ]
        }
      ]
    },
    {
      "cell_type": "code",
      "source": [
        "test_column_name = to_check_column(test_data)\n",
        "print(\"Test column_name\",test_column_name)"
      ],
      "metadata": {
        "colab": {
          "base_uri": "https://localhost:8080/"
        },
        "id": "4G-S-8Q-hoob",
        "outputId": "a171389a-d216-4e5b-aadd-db3f1965b879"
      },
      "execution_count": null,
      "outputs": [
        {
          "output_type": "stream",
          "name": "stdout",
          "text": [
            "Test column_name Index(['pixel0', 'pixel1', 'pixel2', 'pixel3', 'pixel4', 'pixel5', 'pixel6',\n",
            "       'pixel7', 'pixel8', 'pixel9',\n",
            "       ...\n",
            "       'pixel774', 'pixel775', 'pixel776', 'pixel777', 'pixel778', 'pixel779',\n",
            "       'pixel780', 'pixel781', 'pixel782', 'pixel783'],\n",
            "      dtype='object', length=784)\n"
          ]
        }
      ]
    },
    {
      "cell_type": "markdown",
      "source": [
        "**Count Plot**"
      ],
      "metadata": {
        "id": "fsDpusDWtIDY"
      }
    },
    {
      "cell_type": "code",
      "source": [
        "### let's use count plot to know the count of each label\n",
        "def count_plot(train_data):\n",
        "  sns.countplot(train_data.label)\n",
        "  "
      ],
      "metadata": {
        "id": "CsQirJ6ih2fu"
      },
      "execution_count": null,
      "outputs": []
    },
    {
      "cell_type": "code",
      "source": [
        "count_plot(train_data)"
      ],
      "metadata": {
        "colab": {
          "base_uri": "https://localhost:8080/",
          "height": 279
        },
        "id": "FtK-q_5Fwmqs",
        "outputId": "fc74ace3-9043-483c-abe4-b6cef53b6a90"
      },
      "execution_count": null,
      "outputs": [
        {
          "output_type": "display_data",
          "data": {
            "text/plain": [
              "<Figure size 432x288 with 1 Axes>"
            ],
            "image/png": "[encoded data removed]"
          },
          "metadata": {
            "needs_background": "light"
          }
        }
      ]
    },
    {
      "cell_type": "markdown",
      "source": [
        "Data is already clean. There is no duplicates and no missing values.\n",
        "Data is already balanced"
      ],
      "metadata": {
        "id": "x0IVEkxLzgli"
      }
    },
    {
      "cell_type": "markdown",
      "source": [
        "### Need to find range of pixels"
      ],
      "metadata": {
        "id": "u_wqIRvSz-eo"
      }
    },
    {
      "cell_type": "code",
      "source": [
        "train_data['pixel106'].value_counts()"
      ],
      "metadata": {
        "colab": {
          "base_uri": "https://localhost:8080/"
        },
        "id": "a4GMk0iIwtCn",
        "outputId": "fb859ca5-826d-4082-ec9d-65743e489d79"
      },
      "execution_count": null,
      "outputs": [
        {
          "output_type": "execute_result",
          "data": {
            "text/plain": [
              "0      41624\n",
              "255       19\n",
              "254       15\n",
              "253        9\n",
              "191        8\n",
              "       ...  \n",
              "11         1\n",
              "176        1\n",
              "46         1\n",
              "198        1\n",
              "193        1\n",
              "Name: pixel106, Length: 183, dtype: int64"
            ]
          },
          "metadata": {},
          "execution_count": 257
        }
      ]
    },
    {
      "cell_type": "code",
      "source": [
        "train_data['pixel10'].value_counts()"
      ],
      "metadata": {
        "colab": {
          "base_uri": "https://localhost:8080/"
        },
        "id": "VBhBIdXOFAmr",
        "outputId": "8cb2016d-5071-4ac3-f8be-662cb67dc24d"
      },
      "execution_count": null,
      "outputs": [
        {
          "output_type": "execute_result",
          "data": {
            "text/plain": [
              "0    42000\n",
              "Name: pixel10, dtype: int64"
            ]
          },
          "metadata": {},
          "execution_count": 258
        }
      ]
    },
    {
      "cell_type": "markdown",
      "source": [
        "As per observation,pixel intensities are currently between the range 0 and 255.we proceed to normalize the features between 0 and 1. Converted the numeric class vector to binary one hot encoding"
      ],
      "metadata": {
        "id": "6DlweLf8E7ky"
      }
    },
    {
      "cell_type": "code",
      "source": [
        "# Feature Normalization\n",
        "y = train_data['label']\n",
        "y.value_counts()"
      ],
      "metadata": {
        "id": "Tzdb2Ks_JuzA",
        "colab": {
          "base_uri": "https://localhost:8080/"
        },
        "outputId": "18a41c74-4a02-47cd-a5c1-38cfcdc3fa48"
      },
      "execution_count": null,
      "outputs": [
        {
          "output_type": "execute_result",
          "data": {
            "text/plain": [
              "1    4684\n",
              "7    4401\n",
              "3    4351\n",
              "9    4188\n",
              "2    4177\n",
              "6    4137\n",
              "0    4132\n",
              "4    4072\n",
              "8    4063\n",
              "5    3795\n",
              "Name: label, dtype: int64"
            ]
          },
          "metadata": {},
          "execution_count": 259
        }
      ]
    },
    {
      "cell_type": "code",
      "source": [
        "print(type(y))"
      ],
      "metadata": {
        "colab": {
          "base_uri": "https://localhost:8080/"
        },
        "id": "d5F0GvD6H87Z",
        "outputId": "59f68a0c-b62e-40de-c13f-05f1c16853e9"
      },
      "execution_count": null,
      "outputs": [
        {
          "output_type": "stream",
          "name": "stdout",
          "text": [
            "<class 'pandas.core.series.Series'>\n"
          ]
        }
      ]
    },
    {
      "cell_type": "code",
      "source": [
        "y_train = to_categorical(y, num_classes = 10)"
      ],
      "metadata": {
        "id": "V7IzndzdStDl"
      },
      "execution_count": null,
      "outputs": []
    },
    {
      "cell_type": "code",
      "source": [
        "X = train_data.drop(labels=['label'],axis=1)"
      ],
      "metadata": {
        "id": "tUxH85CvPWMR"
      },
      "execution_count": null,
      "outputs": []
    },
    {
      "cell_type": "code",
      "source": [
        "X.head()"
      ],
      "metadata": {
        "colab": {
          "base_uri": "https://localhost:8080/",
          "height": 299
        },
        "id": "6d5BtzPSCSs8",
        "outputId": "16c920c3-45d1-44a5-aaf2-76c2c95e7e27"
      },
      "execution_count": null,
      "outputs": [
        {
          "output_type": "execute_result",
          "data": {
            "text/plain": [
              "   pixel0  pixel1  pixel2  pixel3  pixel4  pixel5  pixel6  pixel7  pixel8  \\\n",
              "0       0       0       0       0       0       0       0       0       0   \n",
              "1       0       0       0       0       0       0       0       0       0   \n",
              "2       0       0       0       0       0       0       0       0       0   \n",
              "3       0       0       0       0       0       0       0       0       0   \n",
              "4       0       0       0       0       0       0       0       0       0   \n",
              "\n",
              "   pixel9  ...  pixel774  pixel775  pixel776  pixel777  pixel778  pixel779  \\\n",
              "0       0  ...         0         0         0         0         0         0   \n",
              "1       0  ...         0         0         0         0         0         0   \n",
              "2       0  ...         0         0         0         0         0         0   \n",
              "3       0  ...         0         0         0         0         0         0   \n",
              "4       0  ...         0         0         0         0         0         0   \n",
              "\n",
              "   pixel780  pixel781  pixel782  pixel783  \n",
              "0         0         0         0         0  \n",
              "1         0         0         0         0  \n",
              "2         0         0         0         0  \n",
              "3         0         0         0         0  \n",
              "4         0         0         0         0  \n",
              "\n",
              "[5 rows x 784 columns]"
            ],
            "text/html": [
              "\n",
              "  <div id=\"df-c27be9b7-1264-4a09-bcf7-694282b4a8d9\">\n",
              "    <div class=\"colab-df-container\">\n",
              "      <div>\n",
              "<style scoped>\n",
              "    .dataframe tbody tr th:only-of-type {\n",
              "        vertical-align: middle;\n",
              "    }\n",
              "\n",
              "    .dataframe tbody tr th {\n",
              "        vertical-align: top;\n",
              "    }\n",
              "\n",
              "    .dataframe thead th {\n",
              "        text-align: right;\n",
              "    }\n",
              "</style>\n",
              "<table border=\"1\" class=\"dataframe\">\n",
              "  <thead>\n",
              "    <tr style=\"text-align: right;\">\n",
              "      <th></th>\n",
              "      <th>pixel0</th>\n",
              "      <th>pixel1</th>\n",
              "      <th>pixel2</th>\n",
              "      <th>pixel3</th>\n",
              "      <th>pixel4</th>\n",
              "      <th>pixel5</th>\n",
              "      <th>pixel6</th>\n",
              "      <th>pixel7</th>\n",
              "      <th>pixel8</th>\n",
              "      <th>pixel9</th>\n",
              "      <th>...</th>\n",
              "      <th>pixel774</th>\n",
              "      <th>pixel775</th>\n",
              "      <th>pixel776</th>\n",
              "      <th>pixel777</th>\n",
              "      <th>pixel778</th>\n",
              "      <th>pixel779</th>\n",
              "      <th>pixel780</th>\n",
              "      <th>pixel781</th>\n",
              "      <th>pixel782</th>\n",
              "      <th>pixel783</th>\n",
              "    </tr>\n",
              "  </thead>\n",
              "  <tbody>\n",
              "    <tr>\n",
              "      <th>0</th>\n",
              "      <td>0</td>\n",
              "      <td>0</td>\n",
              "      <td>0</td>\n",
              "      <td>0</td>\n",
              "      <td>0</td>\n",
              "      <td>0</td>\n",
              "      <td>0</td>\n",
              "      <td>0</td>\n",
              "      <td>0</td>\n",
              "      <td>0</td>\n",
              "      <td>...</td>\n",
              "      <td>0</td>\n",
              "      <td>0</td>\n",
              "      <td>0</td>\n",
              "      <td>0</td>\n",
              "      <td>0</td>\n",
              "      <td>0</td>\n",
              "      <td>0</td>\n",
              "      <td>0</td>\n",
              "      <td>0</td>\n",
              "      <td>0</td>\n",
              "    </tr>\n",
              "    <tr>\n",
              "      <th>1</th>\n",
              "      <td>0</td>\n",
              "      <td>0</td>\n",
              "      <td>0</td>\n",
              "      <td>0</td>\n",
              "      <td>0</td>\n",
              "      <td>0</td>\n",
              "      <td>0</td>\n",
              "      <td>0</td>\n",
              "      <td>0</td>\n",
              "      <td>0</td>\n",
              "      <td>...</td>\n",
              "      <td>0</td>\n",
              "      <td>0</td>\n",
              "      <td>0</td>\n",
              "      <td>0</td>\n",
              "      <td>0</td>\n",
              "      <td>0</td>\n",
              "      <td>0</td>\n",
              "      <td>0</td>\n",
              "      <td>0</td>\n",
              "      <td>0</td>\n",
              "    </tr>\n",
              "    <tr>\n",
              "      <th>2</th>\n",
              "      <td>0</td>\n",
              "      <td>0</td>\n",
              "      <td>0</td>\n",
              "      <td>0</td>\n",
              "      <td>0</td>\n",
              "      <td>0</td>\n",
              "      <td>0</td>\n",
              "      <td>0</td>\n",
              "      <td>0</td>\n",
              "      <td>0</td>\n",
              "      <td>...</td>\n",
              "      <td>0</td>\n",
              "      <td>0</td>\n",
              "      <td>0</td>\n",
              "      <td>0</td>\n",
              "      <td>0</td>\n",
              "      <td>0</td>\n",
              "      <td>0</td>\n",
              "      <td>0</td>\n",
              "      <td>0</td>\n",
              "      <td>0</td>\n",
              "    </tr>\n",
              "    <tr>\n",
              "      <th>3</th>\n",
              "      <td>0</td>\n",
              "      <td>0</td>\n",
              "      <td>0</td>\n",
              "      <td>0</td>\n",
              "      <td>0</td>\n",
              "      <td>0</td>\n",
              "      <td>0</td>\n",
              "      <td>0</td>\n",
              "      <td>0</td>\n",
              "      <td>0</td>\n",
              "      <td>...</td>\n",
              "      <td>0</td>\n",
              "      <td>0</td>\n",
              "      <td>0</td>\n",
              "      <td>0</td>\n",
              "      <td>0</td>\n",
              "      <td>0</td>\n",
              "      <td>0</td>\n",
              "      <td>0</td>\n",
              "      <td>0</td>\n",
              "      <td>0</td>\n",
              "    </tr>\n",
              "    <tr>\n",
              "      <th>4</th>\n",
              "      <td>0</td>\n",
              "      <td>0</td>\n",
              "      <td>0</td>\n",
              "      <td>0</td>\n",
              "      <td>0</td>\n",
              "      <td>0</td>\n",
              "      <td>0</td>\n",
              "      <td>0</td>\n",
              "      <td>0</td>\n",
              "      <td>0</td>\n",
              "      <td>...</td>\n",
              "      <td>0</td>\n",
              "      <td>0</td>\n",
              "      <td>0</td>\n",
              "      <td>0</td>\n",
              "      <td>0</td>\n",
              "      <td>0</td>\n",
              "      <td>0</td>\n",
              "      <td>0</td>\n",
              "      <td>0</td>\n",
              "      <td>0</td>\n",
              "    </tr>\n",
              "  </tbody>\n",
              "</table>\n",
              "<p>5 rows × 784 columns</p>\n",
              "</div>\n",
              "      <button class=\"colab-df-convert\" onclick=\"convertToInteractive('df-c27be9b7-1264-4a09-bcf7-694282b4a8d9')\"\n",
              "              title=\"Convert this dataframe to an interactive table.\"\n",
              "              style=\"display:none;\">\n",
              "        \n",
              "  <svg xmlns=\"http://www.w3.org/2000/svg\" height=\"24px\"viewBox=\"0 0 24 24\"\n",
              "       width=\"24px\">\n",
              "    <path d=\"M0 0h24v24H0V0z\" fill=\"none\"/>\n",
              "    <path d=\"M18.56 5.44l.94 2.06.94-2.06 2.06-.94-2.06-.94-.94-2.06-.94 2.06-2.06.94zm-11 1L8.5 8.5l.94-2.06 2.06-.94-2.06-.94L8.5 2.5l-.94 2.06-2.06.94zm10 10l.94 2.06.94-2.06 2.06-.94-2.06-.94-.94-2.06-.94 2.06-2.06.94z\"/><path d=\"M17.41 7.96l-1.37-1.37c-.4-.4-.92-.59-1.43-.59-.52 0-1.04.2-1.43.59L10.3 9.45l-7.72 7.72c-.78.78-.78 2.05 0 2.83L4 21.41c.39.39.9.59 1.41.59.51 0 1.02-.2 1.41-.59l7.78-7.78 2.81-2.81c.8-.78.8-2.07 0-2.86zM5.41 20L4 18.59l7.72-7.72 1.47 1.35L5.41 20z\"/>\n",
              "  </svg>\n",
              "      </button>\n",
              "      \n",
              "  <style>\n",
              "    .colab-df-container {\n",
              "      display:flex;\n",
              "      flex-wrap:wrap;\n",
              "      gap: 12px;\n",
              "    }\n",
              "\n",
              "    .colab-df-convert {\n",
              "      background-color: #E8F0FE;\n",
              "      border: none;\n",
              "      border-radius: 50%;\n",
              "      cursor: pointer;\n",
              "      display: none;\n",
              "      fill: #1967D2;\n",
              "      height: 32px;\n",
              "      padding: 0 0 0 0;\n",
              "      width: 32px;\n",
              "    }\n",
              "\n",
              "    .colab-df-convert:hover {\n",
              "      background-color: #E2EBFA;\n",
              "      box-shadow: 0px 1px 2px rgba(60, 64, 67, 0.3), 0px 1px 3px 1px rgba(60, 64, 67, 0.15);\n",
              "      fill: #174EA6;\n",
              "    }\n",
              "\n",
              "    [theme=dark] .colab-df-convert {\n",
              "      background-color: #3B4455;\n",
              "      fill: #D2E3FC;\n",
              "    }\n",
              "\n",
              "    [theme=dark] .colab-df-convert:hover {\n",
              "      background-color: #434B5C;\n",
              "      box-shadow: 0px 1px 3px 1px rgba(0, 0, 0, 0.15);\n",
              "      filter: drop-shadow(0px 1px 2px rgba(0, 0, 0, 0.3));\n",
              "      fill: #FFFFFF;\n",
              "    }\n",
              "  </style>\n",
              "\n",
              "      <script>\n",
              "        const buttonEl =\n",
              "          document.querySelector('#df-c27be9b7-1264-4a09-bcf7-694282b4a8d9 button.colab-df-convert');\n",
              "        buttonEl.style.display =\n",
              "          google.colab.kernel.accessAllowed ? 'block' : 'none';\n",
              "\n",
              "        async function convertToInteractive(key) {\n",
              "          const element = document.querySelector('#df-c27be9b7-1264-4a09-bcf7-694282b4a8d9');\n",
              "          const dataTable =\n",
              "            await google.colab.kernel.invokeFunction('convertToInteractive',\n",
              "                                                     [key], {});\n",
              "          if (!dataTable) return;\n",
              "\n",
              "          const docLinkHtml = 'Like what you see? Visit the ' +\n",
              "            '<a target=\"_blank\" href=https://colab.research.google.com/notebooks/data_table.ipynb>data table notebook</a>'\n",
              "            + ' to learn more about interactive tables.';\n",
              "          element.innerHTML = '';\n",
              "          dataTable['output_type'] = 'display_data';\n",
              "          await google.colab.output.renderOutput(dataTable, element);\n",
              "          const docLink = document.createElement('div');\n",
              "          docLink.innerHTML = docLinkHtml;\n",
              "          element.appendChild(docLink);\n",
              "        }\n",
              "      </script>\n",
              "    </div>\n",
              "  </div>\n",
              "  "
            ]
          },
          "metadata": {},
          "execution_count": 263
        }
      ]
    },
    {
      "cell_type": "code",
      "source": [
        "def normalize(data):\n",
        "  data = data/255.0\n",
        "  return data"
      ],
      "metadata": {
        "id": "JiKFhF9fCWQE"
      },
      "execution_count": null,
      "outputs": []
    },
    {
      "cell_type": "code",
      "source": [
        "X = normalize(X)\n",
        "print(X.shape)"
      ],
      "metadata": {
        "colab": {
          "base_uri": "https://localhost:8080/"
        },
        "id": "KIvPlgbcCrfd",
        "outputId": "6683fb83-6f9f-4511-9dbf-37dc168df725"
      },
      "execution_count": null,
      "outputs": [
        {
          "output_type": "stream",
          "name": "stdout",
          "text": [
            "(42000, 784)\n"
          ]
        }
      ]
    },
    {
      "cell_type": "code",
      "source": [
        "X['pixel106'].value_counts()"
      ],
      "metadata": {
        "colab": {
          "base_uri": "https://localhost:8080/"
        },
        "id": "FkXRCq6dwBYP",
        "outputId": "8b6c0d4a-bde8-4b69-9883-dcc7c14bcd91"
      },
      "execution_count": null,
      "outputs": [
        {
          "output_type": "execute_result",
          "data": {
            "text/plain": [
              "0.000000    41624\n",
              "1.000000       19\n",
              "0.996078       15\n",
              "0.992157        9\n",
              "0.749020        8\n",
              "            ...  \n",
              "0.043137        1\n",
              "0.690196        1\n",
              "0.180392        1\n",
              "0.776471        1\n",
              "0.756863        1\n",
              "Name: pixel106, Length: 183, dtype: int64"
            ]
          },
          "metadata": {},
          "execution_count": 266
        }
      ]
    },
    {
      "cell_type": "markdown",
      "source": [
        "### Reshape the image"
      ],
      "metadata": {
        "id": "MQUZ7aW5kVQ7"
      }
    },
    {
      "cell_type": "code",
      "source": [
        "X_train = X"
      ],
      "metadata": {
        "id": "qTOjE0cRyBzQ"
      },
      "execution_count": null,
      "outputs": []
    },
    {
      "cell_type": "code",
      "source": [
        "def image_reshape(X_train):\n",
        "  X_train = X_train.values.reshape(-1,28,28,1)\n",
        "  return X_train"
      ],
      "metadata": {
        "id": "izK_9v6khTIl"
      },
      "execution_count": null,
      "outputs": []
    },
    {
      "cell_type": "code",
      "source": [
        "X_train = image_reshape(X_train)"
      ],
      "metadata": {
        "id": "SYqh0DvBkgCz"
      },
      "execution_count": null,
      "outputs": []
    },
    {
      "cell_type": "code",
      "source": [
        "test_data = image_reshape(test_data)"
      ],
      "metadata": {
        "id": "LpC2vdlSwKoH"
      },
      "execution_count": null,
      "outputs": []
    },
    {
      "cell_type": "code",
      "source": [
        "print(X_train.shape)\n",
        "print(test_data.shape)"
      ],
      "metadata": {
        "colab": {
          "base_uri": "https://localhost:8080/"
        },
        "id": "CrER8YvSwSZc",
        "outputId": "173aec6b-2222-4e52-fef5-199d2c5d9ef2"
      },
      "execution_count": null,
      "outputs": [
        {
          "output_type": "stream",
          "name": "stdout",
          "text": [
            "(42000, 28, 28, 1)\n",
            "(28000, 28, 28, 1)\n"
          ]
        }
      ]
    },
    {
      "cell_type": "markdown",
      "source": [
        "Image has (28**28) pixels has been stock into Pandas. DataFrame as 1D Vectors of 784 values. We will reshape all data  that indicates(height,width,channel).Channel 3 means RGB."
      ],
      "metadata": {
        "id": "7mhhJIp5iOjn"
      }
    },
    {
      "cell_type": "code",
      "source": [
        "test_data = normalize(test_data)\n",
        "print(test_data.shape)"
      ],
      "metadata": {
        "colab": {
          "base_uri": "https://localhost:8080/"
        },
        "id": "0rFVlOM7DsOn",
        "outputId": "716120cf-fd84-416a-b7d3-d6ad9df70697"
      },
      "execution_count": null,
      "outputs": [
        {
          "output_type": "stream",
          "name": "stdout",
          "text": [
            "(28000, 28, 28, 1)\n"
          ]
        }
      ]
    },
    {
      "cell_type": "code",
      "source": [
        "def image_show(X,idx):\n",
        "  plt.figure(figsize=(7,7))\n",
        "  grid_data = X.iloc[idx].to_numpy().reshape(28,28)\n",
        "  plt.imshow(grid_data,interpolation=None,cmap='afmhot')\n",
        "  plt.show()"
      ],
      "metadata": {
        "id": "TzMDf8g4D_n_"
      },
      "execution_count": null,
      "outputs": []
    },
    {
      "cell_type": "code",
      "source": [
        "a1=image_show(X,3)\n",
        "print(a1)"
      ],
      "metadata": {
        "id": "X_USd_oWNSc9",
        "colab": {
          "base_uri": "https://localhost:8080/",
          "height": 446
        },
        "outputId": "d3bb478d-499f-4d1d-bcae-1ffb3409f516"
      },
      "execution_count": null,
      "outputs": [
        {
          "output_type": "display_data",
          "data": {
            "text/plain": [
              "<Figure size 504x504 with 1 Axes>"
            ],
            "image/png": "[encoded data removed]"
          },
          "metadata": {
            "needs_background": "light"
          }
        },
        {
          "output_type": "stream",
          "name": "stdout",
          "text": [
            "None\n"
          ]
        }
      ]
    },
    {
      "cell_type": "code",
      "source": [
        "b1 = image_show(X,7)\n",
        "b1"
      ],
      "metadata": {
        "colab": {
          "base_uri": "https://localhost:8080/",
          "height": 428
        },
        "id": "8fmoLhTDQQZ6",
        "outputId": "4bb6f21f-d317-4d76-a8ab-35c81931698b"
      },
      "execution_count": null,
      "outputs": [
        {
          "output_type": "display_data",
          "data": {
            "text/plain": [
              "<Figure size 504x504 with 1 Axes>"
            ],
            "image/png": "[encoded data removed]"
          },
          "metadata": {
            "needs_background": "light"
          }
        }
      ]
    },
    {
      "cell_type": "code",
      "source": [
        "c1= image_show(X,104)\n",
        "print(c1)"
      ],
      "metadata": {
        "colab": {
          "base_uri": "https://localhost:8080/",
          "height": 446
        },
        "id": "rfVVuemCQaq3",
        "outputId": "96b6fac6-9c04-440b-d9f4-45ef2323ad4b"
      },
      "execution_count": null,
      "outputs": [
        {
          "output_type": "display_data",
          "data": {
            "text/plain": [
              "<Figure size 504x504 with 1 Axes>"
            ],
            "image/png": "[encoded data removed]"
          },
          "metadata": {
            "needs_background": "light"
          }
        },
        {
          "output_type": "stream",
          "name": "stdout",
          "text": [
            "None\n"
          ]
        }
      ]
    },
    {
      "cell_type": "code",
      "source": [
        "a2 = image_show(X,779)\n",
        "print(a2)"
      ],
      "metadata": {
        "colab": {
          "base_uri": "https://localhost:8080/",
          "height": 446
        },
        "id": "73F9XHn4RHs5",
        "outputId": "001c9f6c-9b24-4f81-e3b7-116c4642360f"
      },
      "execution_count": null,
      "outputs": [
        {
          "output_type": "display_data",
          "data": {
            "text/plain": [
              "<Figure size 504x504 with 1 Axes>"
            ],
            "image/png": "[encoded data removed]"
          },
          "metadata": {
            "needs_background": "light"
          }
        },
        {
          "output_type": "stream",
          "name": "stdout",
          "text": [
            "None\n"
          ]
        }
      ]
    },
    {
      "cell_type": "markdown",
      "source": [
        "Splitting train test image dataset"
      ],
      "metadata": {
        "id": "g50S3F3rQcVC"
      }
    },
    {
      "cell_type": "code",
      "source": [
        "x_train,x_val,y_train,y_val = train_test_split(X_train,y_train,stratify=y_train,test_size=0.1,random_state=42)\n",
        "print(x_train.shape)\n",
        "print(x_val.shape)\n",
        "print(y_train.shape)\n",
        "print(y_val.shape)"
      ],
      "metadata": {
        "colab": {
          "base_uri": "https://localhost:8080/"
        },
        "id": "C8bzsoaUQTL2",
        "outputId": "48b118d4-182e-484c-b73b-e206186d6f4e"
      },
      "execution_count": null,
      "outputs": [
        {
          "output_type": "stream",
          "name": "stdout",
          "text": [
            "(37800, 28, 28, 1)\n",
            "(4200, 28, 28, 1)\n",
            "(37800, 10)\n",
            "(4200, 10)\n"
          ]
        }
      ]
    },
    {
      "cell_type": "code",
      "source": [
        "# Architecture of CNN --  [[(CNN2D-relu)*2]->Maxpooling->Dropout]*2]->Flatten->Dense->output\n",
        "\n",
        "model = Sequential()\n",
        "model.add(Conv2D(filters=32,kernel_size=(5,5),padding='same',activation='relu',input_shape=(28,28,1)))\n",
        "model.add(Conv2D(filters=32,kernel_size=(5,5),padding='same',activation='relu',input_shape=(28,28,1)))\n",
        "model.add(MaxPool2D(pool_size=(2,2)))\n",
        "model.add(Dropout(0.25))\n",
        "\n",
        "model.add(Conv2D(filters=64,kernel_size=(5,5),padding='same',activation='relu',input_shape=(28,28,1)))\n",
        "model.add(Conv2D(filters=64,kernel_size=(5,5),padding='same',activation='relu',input_shape=(28,28,1)))\n",
        "model.add(MaxPool2D(pool_size=(2,2)))\n",
        "model.add(Dropout(0.25))\n",
        "\n",
        "model.add(Flatten())\n",
        "model.add(Dense(512,activation='relu'))\n",
        "model.add(Dropout(0.25))\n",
        "model.add(Dense(10,activation='softmax'))\n"
      ],
      "metadata": {
        "id": "LHTIroN1MV8t"
      },
      "execution_count": null,
      "outputs": []
    },
    {
      "cell_type": "code",
      "source": [
        "model.summary()"
      ],
      "metadata": {
        "colab": {
          "base_uri": "https://localhost:8080/"
        },
        "id": "TjyBylE17kN1",
        "outputId": "3c36187c-9ade-4042-871f-4bcd58cbfc4b"
      },
      "execution_count": null,
      "outputs": [
        {
          "output_type": "stream",
          "name": "stdout",
          "text": [
            "Model: \"sequential_1\"\n",
            "_________________________________________________________________\n",
            "Layer (type)                 Output Shape              Param #   \n",
            "=================================================================\n",
            "conv2d_5 (Conv2D)            (None, 28, 28, 32)        832       \n",
            "_________________________________________________________________\n",
            "conv2d_6 (Conv2D)            (None, 28, 28, 32)        25632     \n",
            "_________________________________________________________________\n",
            "max_pooling2d_3 (MaxPooling2 (None, 14, 14, 32)        0         \n",
            "_________________________________________________________________\n",
            "dropout_5 (Dropout)          (None, 14, 14, 32)        0         \n",
            "_________________________________________________________________\n",
            "conv2d_7 (Conv2D)            (None, 14, 14, 64)        51264     \n",
            "_________________________________________________________________\n",
            "conv2d_8 (Conv2D)            (None, 14, 14, 64)        102464    \n",
            "_________________________________________________________________\n",
            "max_pooling2d_4 (MaxPooling2 (None, 7, 7, 64)          0         \n",
            "_________________________________________________________________\n",
            "dropout_6 (Dropout)          (None, 7, 7, 64)          0         \n",
            "_________________________________________________________________\n",
            "flatten_2 (Flatten)          (None, 3136)              0         \n",
            "_________________________________________________________________\n",
            "dense_5 (Dense)              (None, 512)               1606144   \n",
            "_________________________________________________________________\n",
            "dropout_7 (Dropout)          (None, 512)               0         \n",
            "_________________________________________________________________\n",
            "dense_6 (Dense)              (None, 10)                5130      \n",
            "=================================================================\n",
            "Total params: 1,791,466\n",
            "Trainable params: 1,791,466\n",
            "Non-trainable params: 0\n",
            "_________________________________________________________________\n"
          ]
        }
      ]
    },
    {
      "cell_type": "code",
      "source": [
        "# Define the optimizer\n",
        "optimizer = RMSprop(learning_rate=0.001,rho=0.9,momentum=0.1)"
      ],
      "metadata": {
        "id": "TWd_cZq98evJ"
      },
      "execution_count": null,
      "outputs": []
    },
    {
      "cell_type": "code",
      "source": [
        "model.compile(optimizer=optimizer,loss='categorical_crossentropy',metrics=['accuracy'])"
      ],
      "metadata": {
        "id": "u1URLRszufSe"
      },
      "execution_count": null,
      "outputs": []
    },
    {
      "cell_type": "code",
      "source": [
        "print(y_train.shape)"
      ],
      "metadata": {
        "colab": {
          "base_uri": "https://localhost:8080/"
        },
        "id": "GWeKzh5KzUqa",
        "outputId": "f5a959f2-8c2c-4f7d-aee0-326ae3ee78d4"
      },
      "execution_count": null,
      "outputs": [
        {
          "output_type": "stream",
          "name": "stdout",
          "text": [
            "(37800, 10)\n"
          ]
        }
      ]
    },
    {
      "cell_type": "code",
      "source": [
        "model.fit(x_train,y_train,epochs=2,batch_size=50,validation_data=(x_val,y_val))"
      ],
      "metadata": {
        "colab": {
          "base_uri": "https://localhost:8080/"
        },
        "id": "h7oPpwrkwFj7",
        "outputId": "ed61260e-9469-45c5-efbb-6fb15b84983a"
      },
      "execution_count": null,
      "outputs": [
        {
          "output_type": "stream",
          "name": "stdout",
          "text": [
            "Epoch 1/2\n",
            "756/756 [==============================] - 426s 563ms/step - loss: 0.1790 - accuracy: 0.9430 - val_loss: 0.0745 - val_accuracy: 0.9793\n",
            "Epoch 2/2\n",
            "756/756 [==============================] - 426s 564ms/step - loss: 0.0554 - accuracy: 0.9840 - val_loss: 0.0443 - val_accuracy: 0.9881\n"
          ]
        },
        {
          "output_type": "execute_result",
          "data": {
            "text/plain": [
              "<tensorflow.python.keras.callbacks.History at 0x7f91018a8d50>"
            ]
          },
          "metadata": {},
          "execution_count": 284
        }
      ]
    },
    {
      "cell_type": "markdown",
      "source": [
        "### Saved and load the Model"
      ],
      "metadata": {
        "id": "_1g_fBKTDurO"
      }
    },
    {
      "cell_type": "code",
      "source": [
        "!mkdir -p saved_model"
      ],
      "metadata": {
        "id": "To68N0-94Om2"
      },
      "execution_count": null,
      "outputs": []
    },
    {
      "cell_type": "code",
      "source": [
        "model.save(' ')"
      ],
      "metadata": {
        "colab": {
          "base_uri": "https://localhost:8080/"
        },
        "id": "QfyhNeajjplq",
        "outputId": "1ad49408-e2f9-4507-b5da-cc20a66388dc"
      },
      "execution_count": null,
      "outputs": [
        {
          "output_type": "stream",
          "name": "stderr",
          "text": [
            "WARNING:tensorflow:From /usr/local/lib/python3.7/dist-packages/tensorflow/python/ops/resource_variable_ops.py:1817: calling BaseResourceVariable.__init__ (from tensorflow.python.ops.resource_variable_ops) with constraint is deprecated and will be removed in a future version.\n",
            "Instructions for updating:\n",
            "If using Keras pass *_constraint arguments to layers.\n"
          ]
        }
      ]
    },
    {
      "cell_type": "code",
      "source": [
        "model.save('saved_model/my_model')"
      ],
      "metadata": {
        "id": "XfQs33DQADFH"
      },
      "execution_count": null,
      "outputs": []
    },
    {
      "cell_type": "code",
      "source": [
        "# my_model directory\n",
        "!ls saved_model\n",
        "\n",
        "# Contains an assets folder, saved_model.pb, and variables folder.\n",
        "!ls saved_model/my_model"
      ],
      "metadata": {
        "colab": {
          "base_uri": "https://localhost:8080/"
        },
        "id": "Q0tF2vYkAlg8",
        "outputId": "814be3a4-0751-442c-a14a-cd3d7ae508c8"
      },
      "execution_count": null,
      "outputs": [
        {
          "output_type": "stream",
          "name": "stdout",
          "text": [
            "my_model\n",
            "assets\tsaved_model.pb\tvariables\n"
          ]
        }
      ]
    },
    {
      "cell_type": "markdown",
      "source": [
        "### Reload a fresh keras model from saved model"
      ],
      "metadata": {
        "id": "DikGJRm-A9M0"
      }
    },
    {
      "cell_type": "code",
      "source": [
        "#new_model = tf.keras.models.load_model('saved_model/my_model')\n",
        "\n",
        "# Check its architecture\n",
        "#new_model.summary()"
      ],
      "metadata": {
        "id": "w6OcPKypBAPK"
      },
      "execution_count": null,
      "outputs": []
    },
    {
      "cell_type": "markdown",
      "source": [
        "### Let's Do Confusion Matrix"
      ],
      "metadata": {
        "id": "C42Ufb5wPyvs"
      }
    },
    {
      "cell_type": "code",
      "source": [
        "#predict the values from validation data set\n",
        "y_pred = model.predict(x_val)\n",
        "#convert predictions classes to one hot vectors\n",
        "y_pred_classes = np.argmax(y_pred,axis=1)\n",
        "#convert validation observation to one hot vector\n",
        "y_true = np.argmax(y_val,axis=1)\n",
        "#calculate the confusion matrix\n",
        "confusion_matrix(y_true,y_pred_classes)"
      ],
      "metadata": {
        "colab": {
          "base_uri": "https://localhost:8080/"
        },
        "id": "0A6q094lBz-V",
        "outputId": "ed3c76e5-28a2-4831-8a1a-cef0250fc3e2"
      },
      "execution_count": null,
      "outputs": [
        {
          "output_type": "execute_result",
          "data": {
            "text/plain": [
              "array([[406,   0,   0,   0,   0,   0,   5,   0,   2,   0],\n",
              "       [  0, 463,   0,   0,   3,   0,   0,   0,   1,   1],\n",
              "       [  0,   2, 415,   0,   0,   0,   0,   0,   1,   0],\n",
              "       [  0,   0,   1, 428,   0,   1,   0,   3,   0,   2],\n",
              "       [  0,   0,   0,   0, 402,   0,   1,   0,   1,   3],\n",
              "       [  0,   0,   0,   2,   0, 374,   2,   0,   1,   1],\n",
              "       [  0,   0,   0,   0,   0,   0, 413,   0,   1,   0],\n",
              "       [  0,   0,   3,   0,   0,   0,   0, 435,   1,   1],\n",
              "       [  0,   0,   1,   0,   1,   0,   2,   0, 402,   0],\n",
              "       [  0,   0,   0,   0,   4,   0,   0,   0,   3, 412]])"
            ]
          },
          "metadata": {},
          "execution_count": 290
        }
      ]
    },
    {
      "cell_type": "code",
      "source": [
        "classification_report(y_true,y_pred_classes)"
      ],
      "metadata": {
        "colab": {
          "base_uri": "https://localhost:8080/",
          "height": 109
        },
        "id": "ioTz9zCmWDTq",
        "outputId": "8625bb98-f651-4346-915d-588e7373fe1b"
      },
      "execution_count": null,
      "outputs": [
        {
          "output_type": "execute_result",
          "data": {
            "text/plain": [
              "'              precision    recall  f1-score   support\\n\\n           0       1.00      0.98      0.99       413\\n           1       1.00      0.99      0.99       468\\n           2       0.99      0.99      0.99       418\\n           3       1.00      0.98      0.99       435\\n           4       0.98      0.99      0.98       407\\n           5       1.00      0.98      0.99       380\\n           6       0.98      1.00      0.99       414\\n           7       0.99      0.99      0.99       440\\n           8       0.97      0.99      0.98       406\\n           9       0.98      0.98      0.98       419\\n\\n    accuracy                           0.99      4200\\n   macro avg       0.99      0.99      0.99      4200\\nweighted avg       0.99      0.99      0.99      4200\\n'"
            ],
            "application/vnd.google.colaboratory.intrinsic+json": {
              "type": "string"
            }
          },
          "metadata": {},
          "execution_count": 291
        }
      ]
    },
    {
      "cell_type": "code",
      "source": [
        "y_predict = model.predict(test_data)\n",
        "\n",
        "#select the index with maximum probability\n",
        "results = np.argmax(y_predict,axis=1)\n"
      ],
      "metadata": {
        "id": "QjBv8p0iZmda"
      },
      "execution_count": null,
      "outputs": []
    },
    {
      "cell_type": "code",
      "source": [
        "print(results)"
      ],
      "metadata": {
        "colab": {
          "base_uri": "https://localhost:8080/"
        },
        "id": "yh2Uq4pDhAig",
        "outputId": "ccd282ad-9566-4722-87b2-86ab88ff98d0"
      },
      "execution_count": null,
      "outputs": [
        {
          "output_type": "stream",
          "name": "stdout",
          "text": [
            "[2 0 9 ... 3 9 2]\n"
          ]
        }
      ]
    },
    {
      "cell_type": "code",
      "source": [
        "df_test = pd.read_csv(\"sample_submission.csv\")\n",
        "df_test.head()"
      ],
      "metadata": {
        "colab": {
          "base_uri": "https://localhost:8080/",
          "height": 206
        },
        "id": "HaP8GHIdeQgc",
        "outputId": "c8081b87-c98e-4248-a621-5c26349631b0"
      },
      "execution_count": null,
      "outputs": [
        {
          "output_type": "execute_result",
          "data": {
            "text/plain": [
              "   ImageId  Label\n",
              "0        1      0\n",
              "1        2      0\n",
              "2        3      0\n",
              "3        4      0\n",
              "4        5      0"
            ],
            "text/html": [
              "\n",
              "  <div id=\"df-ae5fba75-ffd0-4cbd-b603-2bbd4182fc2c\">\n",
              "    <div class=\"colab-df-container\">\n",
              "      <div>\n",
              "<style scoped>\n",
              "    .dataframe tbody tr th:only-of-type {\n",
              "        vertical-align: middle;\n",
              "    }\n",
              "\n",
              "    .dataframe tbody tr th {\n",
              "        vertical-align: top;\n",
              "    }\n",
              "\n",
              "    .dataframe thead th {\n",
              "        text-align: right;\n",
              "    }\n",
              "</style>\n",
              "<table border=\"1\" class=\"dataframe\">\n",
              "  <thead>\n",
              "    <tr style=\"text-align: right;\">\n",
              "      <th></th>\n",
              "      <th>ImageId</th>\n",
              "      <th>Label</th>\n",
              "    </tr>\n",
              "  </thead>\n",
              "  <tbody>\n",
              "    <tr>\n",
              "      <th>0</th>\n",
              "      <td>1</td>\n",
              "      <td>0</td>\n",
              "    </tr>\n",
              "    <tr>\n",
              "      <th>1</th>\n",
              "      <td>2</td>\n",
              "      <td>0</td>\n",
              "    </tr>\n",
              "    <tr>\n",
              "      <th>2</th>\n",
              "      <td>3</td>\n",
              "      <td>0</td>\n",
              "    </tr>\n",
              "    <tr>\n",
              "      <th>3</th>\n",
              "      <td>4</td>\n",
              "      <td>0</td>\n",
              "    </tr>\n",
              "    <tr>\n",
              "      <th>4</th>\n",
              "      <td>5</td>\n",
              "      <td>0</td>\n",
              "    </tr>\n",
              "  </tbody>\n",
              "</table>\n",
              "</div>\n",
              "      <button class=\"colab-df-convert\" onclick=\"convertToInteractive('df-ae5fba75-ffd0-4cbd-b603-2bbd4182fc2c')\"\n",
              "              title=\"Convert this dataframe to an interactive table.\"\n",
              "              style=\"display:none;\">\n",
              "        \n",
              "  <svg xmlns=\"http://www.w3.org/2000/svg\" height=\"24px\"viewBox=\"0 0 24 24\"\n",
              "       width=\"24px\">\n",
              "    <path d=\"M0 0h24v24H0V0z\" fill=\"none\"/>\n",
              "    <path d=\"M18.56 5.44l.94 2.06.94-2.06 2.06-.94-2.06-.94-.94-2.06-.94 2.06-2.06.94zm-11 1L8.5 8.5l.94-2.06 2.06-.94-2.06-.94L8.5 2.5l-.94 2.06-2.06.94zm10 10l.94 2.06.94-2.06 2.06-.94-2.06-.94-.94-2.06-.94 2.06-2.06.94z\"/><path d=\"M17.41 7.96l-1.37-1.37c-.4-.4-.92-.59-1.43-.59-.52 0-1.04.2-1.43.59L10.3 9.45l-7.72 7.72c-.78.78-.78 2.05 0 2.83L4 21.41c.39.39.9.59 1.41.59.51 0 1.02-.2 1.41-.59l7.78-7.78 2.81-2.81c.8-.78.8-2.07 0-2.86zM5.41 20L4 18.59l7.72-7.72 1.47 1.35L5.41 20z\"/>\n",
              "  </svg>\n",
              "      </button>\n",
              "      \n",
              "  <style>\n",
              "    .colab-df-container {\n",
              "      display:flex;\n",
              "      flex-wrap:wrap;\n",
              "      gap: 12px;\n",
              "    }\n",
              "\n",
              "    .colab-df-convert {\n",
              "      background-color: #E8F0FE;\n",
              "      border: none;\n",
              "      border-radius: 50%;\n",
              "      cursor: pointer;\n",
              "      display: none;\n",
              "      fill: #1967D2;\n",
              "      height: 32px;\n",
              "      padding: 0 0 0 0;\n",
              "      width: 32px;\n",
              "    }\n",
              "\n",
              "    .colab-df-convert:hover {\n",
              "      background-color: #E2EBFA;\n",
              "      box-shadow: 0px 1px 2px rgba(60, 64, 67, 0.3), 0px 1px 3px 1px rgba(60, 64, 67, 0.15);\n",
              "      fill: #174EA6;\n",
              "    }\n",
              "\n",
              "    [theme=dark] .colab-df-convert {\n",
              "      background-color: #3B4455;\n",
              "      fill: #D2E3FC;\n",
              "    }\n",
              "\n",
              "    [theme=dark] .colab-df-convert:hover {\n",
              "      background-color: #434B5C;\n",
              "      box-shadow: 0px 1px 3px 1px rgba(0, 0, 0, 0.15);\n",
              "      filter: drop-shadow(0px 1px 2px rgba(0, 0, 0, 0.3));\n",
              "      fill: #FFFFFF;\n",
              "    }\n",
              "  </style>\n",
              "\n",
              "      <script>\n",
              "        const buttonEl =\n",
              "          document.querySelector('#df-ae5fba75-ffd0-4cbd-b603-2bbd4182fc2c button.colab-df-convert');\n",
              "        buttonEl.style.display =\n",
              "          google.colab.kernel.accessAllowed ? 'block' : 'none';\n",
              "\n",
              "        async function convertToInteractive(key) {\n",
              "          const element = document.querySelector('#df-ae5fba75-ffd0-4cbd-b603-2bbd4182fc2c');\n",
              "          const dataTable =\n",
              "            await google.colab.kernel.invokeFunction('convertToInteractive',\n",
              "                                                     [key], {});\n",
              "          if (!dataTable) return;\n",
              "\n",
              "          const docLinkHtml = 'Like what you see? Visit the ' +\n",
              "            '<a target=\"_blank\" href=https://colab.research.google.com/notebooks/data_table.ipynb>data table notebook</a>'\n",
              "            + ' to learn more about interactive tables.';\n",
              "          element.innerHTML = '';\n",
              "          dataTable['output_type'] = 'display_data';\n",
              "          await google.colab.output.renderOutput(dataTable, element);\n",
              "          const docLink = document.createElement('div');\n",
              "          docLink.innerHTML = docLinkHtml;\n",
              "          element.appendChild(docLink);\n",
              "        }\n",
              "      </script>\n",
              "    </div>\n",
              "  </div>\n",
              "  "
            ]
          },
          "metadata": {},
          "execution_count": 53
        }
      ]
    },
    {
      "cell_type": "code",
      "source": [
        "y_predict_lr_test = pd.DataFrame({\"ImageId\":df_test[\"ImageId\"],\"Label\":results})\n",
        "y_predict_lr_test.to_csv('mnist_digit_recognizer.csv', index=False)  \n",
        "y_predict_lr_test.head(5)"
      ],
      "metadata": {
        "colab": {
          "base_uri": "https://localhost:8080/",
          "height": 206
        },
        "id": "lCKcK97wbGHH",
        "outputId": "4737202f-45f2-4e6d-ca2f-0308a2c421a9"
      },
      "execution_count": null,
      "outputs": [
        {
          "output_type": "execute_result",
          "data": {
            "text/plain": [
              "   ImageId  Label\n",
              "0        1      2\n",
              "1        2      0\n",
              "2        3      9\n",
              "3        4      9\n",
              "4        5      3"
            ],
            "text/html": [
              "\n",
              "  <div id=\"df-d7811172-2cf9-4d75-82f9-a6c859e27c23\">\n",
              "    <div class=\"colab-df-container\">\n",
              "      <div>\n",
              "<style scoped>\n",
              "    .dataframe tbody tr th:only-of-type {\n",
              "        vertical-align: middle;\n",
              "    }\n",
              "\n",
              "    .dataframe tbody tr th {\n",
              "        vertical-align: top;\n",
              "    }\n",
              "\n",
              "    .dataframe thead th {\n",
              "        text-align: right;\n",
              "    }\n",
              "</style>\n",
              "<table border=\"1\" class=\"dataframe\">\n",
              "  <thead>\n",
              "    <tr style=\"text-align: right;\">\n",
              "      <th></th>\n",
              "      <th>ImageId</th>\n",
              "      <th>Label</th>\n",
              "    </tr>\n",
              "  </thead>\n",
              "  <tbody>\n",
              "    <tr>\n",
              "      <th>0</th>\n",
              "      <td>1</td>\n",
              "      <td>2</td>\n",
              "    </tr>\n",
              "    <tr>\n",
              "      <th>1</th>\n",
              "      <td>2</td>\n",
              "      <td>0</td>\n",
              "    </tr>\n",
              "    <tr>\n",
              "      <th>2</th>\n",
              "      <td>3</td>\n",
              "      <td>9</td>\n",
              "    </tr>\n",
              "    <tr>\n",
              "      <th>3</th>\n",
              "      <td>4</td>\n",
              "      <td>9</td>\n",
              "    </tr>\n",
              "    <tr>\n",
              "      <th>4</th>\n",
              "      <td>5</td>\n",
              "      <td>3</td>\n",
              "    </tr>\n",
              "  </tbody>\n",
              "</table>\n",
              "</div>\n",
              "      <button class=\"colab-df-convert\" onclick=\"convertToInteractive('df-d7811172-2cf9-4d75-82f9-a6c859e27c23')\"\n",
              "              title=\"Convert this dataframe to an interactive table.\"\n",
              "              style=\"display:none;\">\n",
              "        \n",
              "  <svg xmlns=\"http://www.w3.org/2000/svg\" height=\"24px\"viewBox=\"0 0 24 24\"\n",
              "       width=\"24px\">\n",
              "    <path d=\"M0 0h24v24H0V0z\" fill=\"none\"/>\n",
              "    <path d=\"M18.56 5.44l.94 2.06.94-2.06 2.06-.94-2.06-.94-.94-2.06-.94 2.06-2.06.94zm-11 1L8.5 8.5l.94-2.06 2.06-.94-2.06-.94L8.5 2.5l-.94 2.06-2.06.94zm10 10l.94 2.06.94-2.06 2.06-.94-2.06-.94-.94-2.06-.94 2.06-2.06.94z\"/><path d=\"M17.41 7.96l-1.37-1.37c-.4-.4-.92-.59-1.43-.59-.52 0-1.04.2-1.43.59L10.3 9.45l-7.72 7.72c-.78.78-.78 2.05 0 2.83L4 21.41c.39.39.9.59 1.41.59.51 0 1.02-.2 1.41-.59l7.78-7.78 2.81-2.81c.8-.78.8-2.07 0-2.86zM5.41 20L4 18.59l7.72-7.72 1.47 1.35L5.41 20z\"/>\n",
              "  </svg>\n",
              "      </button>\n",
              "      \n",
              "  <style>\n",
              "    .colab-df-container {\n",
              "      display:flex;\n",
              "      flex-wrap:wrap;\n",
              "      gap: 12px;\n",
              "    }\n",
              "\n",
              "    .colab-df-convert {\n",
              "      background-color: #E8F0FE;\n",
              "      border: none;\n",
              "      border-radius: 50%;\n",
              "      cursor: pointer;\n",
              "      display: none;\n",
              "      fill: #1967D2;\n",
              "      height: 32px;\n",
              "      padding: 0 0 0 0;\n",
              "      width: 32px;\n",
              "    }\n",
              "\n",
              "    .colab-df-convert:hover {\n",
              "      background-color: #E2EBFA;\n",
              "      box-shadow: 0px 1px 2px rgba(60, 64, 67, 0.3), 0px 1px 3px 1px rgba(60, 64, 67, 0.15);\n",
              "      fill: #174EA6;\n",
              "    }\n",
              "\n",
              "    [theme=dark] .colab-df-convert {\n",
              "      background-color: #3B4455;\n",
              "      fill: #D2E3FC;\n",
              "    }\n",
              "\n",
              "    [theme=dark] .colab-df-convert:hover {\n",
              "      background-color: #434B5C;\n",
              "      box-shadow: 0px 1px 3px 1px rgba(0, 0, 0, 0.15);\n",
              "      filter: drop-shadow(0px 1px 2px rgba(0, 0, 0, 0.3));\n",
              "      fill: #FFFFFF;\n",
              "    }\n",
              "  </style>\n",
              "\n",
              "      <script>\n",
              "        const buttonEl =\n",
              "          document.querySelector('#df-d7811172-2cf9-4d75-82f9-a6c859e27c23 button.colab-df-convert');\n",
              "        buttonEl.style.display =\n",
              "          google.colab.kernel.accessAllowed ? 'block' : 'none';\n",
              "\n",
              "        async function convertToInteractive(key) {\n",
              "          const element = document.querySelector('#df-d7811172-2cf9-4d75-82f9-a6c859e27c23');\n",
              "          const dataTable =\n",
              "            await google.colab.kernel.invokeFunction('convertToInteractive',\n",
              "                                                     [key], {});\n",
              "          if (!dataTable) return;\n",
              "\n",
              "          const docLinkHtml = 'Like what you see? Visit the ' +\n",
              "            '<a target=\"_blank\" href=https://colab.research.google.com/notebooks/data_table.ipynb>data table notebook</a>'\n",
              "            + ' to learn more about interactive tables.';\n",
              "          element.innerHTML = '';\n",
              "          dataTable['output_type'] = 'display_data';\n",
              "          await google.colab.output.renderOutput(dataTable, element);\n",
              "          const docLink = document.createElement('div');\n",
              "          docLink.innerHTML = docLinkHtml;\n",
              "          element.appendChild(docLink);\n",
              "        }\n",
              "      </script>\n",
              "    </div>\n",
              "  </div>\n",
              "  "
            ]
          },
          "metadata": {},
          "execution_count": 54
        }
      ]
    },
    {
      "cell_type": "markdown",
      "source": [
        "![image.png](data:image/png;base64,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)"
      ],
      "metadata": {
        "id": "fPIxTU9VD_ty"
      }
    },
    {
      "cell_type": "markdown",
      "source": [
        "### Apply image Augmented Technique"
      ],
      "metadata": {
        "id": "IaeKbtuFRt7K"
      }
    },
    {
      "cell_type": "code",
      "source": [
        "def image_augmentation(img,transform):\n",
        "  'helper function to show the data augmentation'\n",
        "  img = PIL.Image.open(img)\n",
        "  fig,ax = plt.subplot(1,2,figsize=(2,4))\n",
        "  ax[0].set_title(f'original image {img.size}')\n",
        "  ax[0].image_show(img)\n",
        "  ax[1].set_title(f'transformed image {img.size}')\n",
        "  ax[1].tansform(img)\n",
        "  ax[1].image_show(img)\n"
      ],
      "metadata": {
        "id": "SN4peC0YoHhD"
      },
      "execution_count": null,
      "outputs": []
    },
    {
      "cell_type": "code",
      "source": [
        "#image_resize = transforms.Resize((23,45))\n",
        "#image_augmentation(a1,image_resize)"
      ],
      "metadata": {
        "id": "vS8p-toavuR3"
      },
      "execution_count": null,
      "outputs": []
    },
    {
      "cell_type": "code",
      "source": [
        "print(x_train.shape)\n",
        "print(y_val.shape)"
      ],
      "metadata": {
        "colab": {
          "base_uri": "https://localhost:8080/"
        },
        "id": "G-AyUNuHChJ8",
        "outputId": "c7d64c80-7617-4b89-c44d-1b98ec01a6f4"
      },
      "execution_count": null,
      "outputs": [
        {
          "output_type": "stream",
          "name": "stdout",
          "text": [
            "(37800, 28, 28, 1)\n",
            "(4200, 10)\n"
          ]
        }
      ]
    },
    {
      "cell_type": "markdown",
      "source": [
        "**Adding BatchNormalization**"
      ],
      "metadata": {
        "id": "jzJH9g7cxQTD"
      }
    },
    {
      "cell_type": "code",
      "source": [
        "from tensorflow.python.keras.backend import batch_normalization\n",
        "# Architecture of CNN --  [[(CNN2D-relu)*2]->Maxpooling->Dropout]*2]->Flatten->Dense->output\n",
        "\n",
        "model = Sequential()\n",
        "model.add(Conv2D(filters=64,kernel_size=(5,5),padding='same',activation='relu',input_shape=(28,28,1)))\n",
        "model.add(BatchNormalization(axis=1))\n",
        "model.add(Conv2D(filters=64,kernel_size=(5,5),padding='same',activation='relu',input_shape=(28,28,1)))\n",
        "model.add(BatchNormalization(axis=1))\n",
        "model.add(MaxPool2D(pool_size=(2,2)))\n",
        "model.add(BatchNormalization(axis=1))\n",
        "model.add(Conv2D(filters=64,kernel_size=(5,5),padding='same',activation='relu',input_shape=(28,28,1)))\n",
        "model.add(BatchNormalization(axis=1))\n",
        "model.add(Conv2D(filters=64,kernel_size=(5,5),padding='same',activation='relu',input_shape=(28,28,1)))\n",
        "model.add(BatchNormalization(axis=1))\n",
        "model.add(MaxPool2D(pool_size=(2,2)))\n",
        "\n",
        "model.add(Flatten())\n",
        "model.add(BatchNormalization(axis=1))\n",
        "model.add(Dense(512,activation='relu'))\n",
        "model.add(BatchNormalization())\n",
        "model.add(Dense(10,activation='softmax'))\n"
      ],
      "metadata": {
        "id": "XHmjYAV8xXF2"
      },
      "execution_count": null,
      "outputs": []
    },
    {
      "cell_type": "code",
      "source": [
        "model.compile(optimizer=Adam(),loss='categorical_crossentropy',metrics=['accuracy'])"
      ],
      "metadata": {
        "id": "qcrEdzDTzVCs"
      },
      "execution_count": null,
      "outputs": []
    },
    {
      "cell_type": "code",
      "source": [
        "model.summary()"
      ],
      "metadata": {
        "colab": {
          "base_uri": "https://localhost:8080/"
        },
        "id": "UFYGcUVhzYPG",
        "outputId": "b35ba410-ef22-45c2-b562-bd02af52d8b3"
      },
      "execution_count": null,
      "outputs": [
        {
          "output_type": "stream",
          "name": "stdout",
          "text": [
            "Model: \"sequential_2\"\n",
            "_________________________________________________________________\n",
            "Layer (type)                 Output Shape              Param #   \n",
            "=================================================================\n",
            "conv2d_9 (Conv2D)            (None, 28, 28, 64)        1664      \n",
            "_________________________________________________________________\n",
            "batch_normalization (BatchNo (None, 28, 28, 64)        112       \n",
            "_________________________________________________________________\n",
            "conv2d_10 (Conv2D)           (None, 28, 28, 64)        102464    \n",
            "_________________________________________________________________\n",
            "batch_normalization_1 (Batch (None, 28, 28, 64)        112       \n",
            "_________________________________________________________________\n",
            "max_pooling2d_5 (MaxPooling2 (None, 14, 14, 64)        0         \n",
            "_________________________________________________________________\n",
            "batch_normalization_2 (Batch (None, 14, 14, 64)        56        \n",
            "_________________________________________________________________\n",
            "conv2d_11 (Conv2D)           (None, 14, 14, 64)        102464    \n",
            "_________________________________________________________________\n",
            "batch_normalization_3 (Batch (None, 14, 14, 64)        56        \n",
            "_________________________________________________________________\n",
            "conv2d_12 (Conv2D)           (None, 14, 14, 64)        102464    \n",
            "_________________________________________________________________\n",
            "batch_normalization_4 (Batch (None, 14, 14, 64)        56        \n",
            "_________________________________________________________________\n",
            "max_pooling2d_6 (MaxPooling2 (None, 7, 7, 64)          0         \n",
            "_________________________________________________________________\n",
            "flatten_3 (Flatten)          (None, 3136)              0         \n",
            "_________________________________________________________________\n",
            "batch_normalization_5 (Batch (None, 3136)              12544     \n",
            "_________________________________________________________________\n",
            "dense_7 (Dense)              (None, 512)               1606144   \n",
            "_________________________________________________________________\n",
            "batch_normalization_6 (Batch (None, 512)               2048      \n",
            "_________________________________________________________________\n",
            "dense_8 (Dense)              (None, 10)                5130      \n",
            "=================================================================\n",
            "Total params: 1,935,314\n",
            "Trainable params: 1,927,822\n",
            "Non-trainable params: 7,492\n",
            "_________________________________________________________________\n"
          ]
        }
      ]
    },
    {
      "cell_type": "code",
      "source": [
        "model.fit(x_train,y_train,epochs=10,batch_size=50,validation_data=(x_val,y_val))"
      ],
      "metadata": {
        "colab": {
          "base_uri": "https://localhost:8080/"
        },
        "id": "7UBo3HkazfNC",
        "outputId": "b3186b19-05fb-4dec-835b-b9294023b72c"
      },
      "execution_count": null,
      "outputs": [
        {
          "output_type": "stream",
          "name": "stdout",
          "text": [
            "Epoch 1/10\n",
            "756/756 [==============================] - 969s 1s/step - loss: 0.1237 - accuracy: 0.9620 - val_loss: 0.0612 - val_accuracy: 0.9840\n",
            "Epoch 2/10\n",
            "756/756 [==============================] - 964s 1s/step - loss: 0.0457 - accuracy: 0.9857 - val_loss: 0.0439 - val_accuracy: 0.9890\n",
            "Epoch 3/10\n",
            "756/756 [==============================] - 963s 1s/step - loss: 0.0341 - accuracy: 0.9891 - val_loss: 0.0507 - val_accuracy: 0.9857\n",
            "Epoch 4/10\n",
            "756/756 [==============================] - 960s 1s/step - loss: 0.0284 - accuracy: 0.9908 - val_loss: 0.0367 - val_accuracy: 0.9900\n",
            "Epoch 5/10\n",
            "756/756 [==============================] - 953s 1s/step - loss: 0.0237 - accuracy: 0.9927 - val_loss: 0.0421 - val_accuracy: 0.9895\n",
            "Epoch 6/10\n",
            "756/756 [==============================] - 959s 1s/step - loss: 0.0220 - accuracy: 0.9928 - val_loss: 0.0343 - val_accuracy: 0.9924\n",
            "Epoch 7/10\n",
            "756/756 [==============================] - 969s 1s/step - loss: 0.0209 - accuracy: 0.9930 - val_loss: 0.0427 - val_accuracy: 0.9900\n",
            "Epoch 8/10\n",
            "756/756 [==============================] - 963s 1s/step - loss: 0.0167 - accuracy: 0.9946 - val_loss: 0.0540 - val_accuracy: 0.9876\n",
            "Epoch 9/10\n",
            "756/756 [==============================] - 949s 1s/step - loss: 0.0174 - accuracy: 0.9947 - val_loss: 0.0415 - val_accuracy: 0.9919\n",
            "Epoch 10/10\n",
            "391/756 [==============>...............] - ETA: 7:28 - loss: 0.0088 - accuracy: 0.9972"
          ]
        }
      ]
    },
    {
      "cell_type": "code",
      "source": [
        "!mkdir -p saved_model_v2"
      ],
      "metadata": {
        "id": "lv_GViA978Q8"
      },
      "execution_count": null,
      "outputs": []
    },
    {
      "cell_type": "code",
      "source": [
        "model.save('saved_model_v2/my_model_v2')"
      ],
      "metadata": {
        "id": "Hwx7OC4e8NmT"
      },
      "execution_count": null,
      "outputs": []
    },
    {
      "cell_type": "code",
      "source": [
        "#predict the values from validation set\n",
        "y_pred = model.predict(x_val)\n",
        "# convert predictions classes to one hot vectors\n",
        "y_pred_classes = np.argmax(y_pred,axis=1)\n",
        "#convert validation obserbation to one hot vecors\n",
        "y_true = np.argmax(y_val,axis=1)\n",
        "#let's call confusion matrix\n",
        "confusion_matrix(y_true,y_pred_classes)"
      ],
      "metadata": {
        "id": "vWsZGB7WeB_Q",
        "colab": {
          "base_uri": "https://localhost:8080/"
        },
        "outputId": "02f4cabc-f1cb-49ca-bfca-c0d66caba801"
      },
      "execution_count": null,
      "outputs": [
        {
          "output_type": "execute_result",
          "data": {
            "text/plain": [
              "array([[412,   0,   0,   0,   0,   0,   1,   0,   0,   0],\n",
              "       [  0, 467,   1,   0,   0,   0,   0,   0,   0,   0],\n",
              "       [  0,   0, 416,   0,   0,   0,   0,   2,   0,   0],\n",
              "       [  0,   0,   0, 433,   0,   1,   0,   0,   0,   1],\n",
              "       [  0,   1,   0,   0, 402,   0,   0,   0,   0,   4],\n",
              "       [  0,   0,   0,   5,   0, 366,   1,   0,   3,   5],\n",
              "       [  0,   0,   0,   0,   0,   0, 412,   0,   2,   0],\n",
              "       [  0,   0,   4,   1,   0,   0,   0, 435,   0,   0],\n",
              "       [  3,   2,   0,   0,   0,   0,   2,   0, 399,   0],\n",
              "       [  0,   1,   0,   0,   4,   0,   0,   1,   3, 410]])"
            ]
          },
          "metadata": {},
          "execution_count": 303
        }
      ]
    },
    {
      "cell_type": "code",
      "source": [
        "y_predict = model.predict(test_data)\n",
        "#let's take index with maximum probabilty\n",
        "result = np.argmax(y_predict,axis=1)\n",
        "print(result)"
      ],
      "metadata": {
        "colab": {
          "base_uri": "https://localhost:8080/"
        },
        "id": "g6Upys3r67-P",
        "outputId": "f22de325-e14e-40e1-e576-a01bfc825308"
      },
      "execution_count": null,
      "outputs": [
        {
          "output_type": "stream",
          "name": "stdout",
          "text": [
            "[2 0 9 ... 3 9 2]\n"
          ]
        }
      ]
    },
    {
      "cell_type": "code",
      "source": [
        "df_test_batch = pd.read_csv(\"sample_submission.csv\")\n",
        "df_test_batch.head()"
      ],
      "metadata": {
        "colab": {
          "base_uri": "https://localhost:8080/",
          "height": 206
        },
        "id": "E0WWif6t7E1X",
        "outputId": "735b7d6b-340d-4e9e-fc46-7228e624e0b8"
      },
      "execution_count": null,
      "outputs": [
        {
          "output_type": "execute_result",
          "data": {
            "text/plain": [
              "   ImageId  Label\n",
              "0        1      0\n",
              "1        2      0\n",
              "2        3      0\n",
              "3        4      0\n",
              "4        5      0"
            ],
            "text/html": [
              "\n",
              "  <div id=\"df-f05c0633-fd57-4fa8-b361-014ce56a6c14\">\n",
              "    <div class=\"colab-df-container\">\n",
              "      <div>\n",
              "<style scoped>\n",
              "    .dataframe tbody tr th:only-of-type {\n",
              "        vertical-align: middle;\n",
              "    }\n",
              "\n",
              "    .dataframe tbody tr th {\n",
              "        vertical-align: top;\n",
              "    }\n",
              "\n",
              "    .dataframe thead th {\n",
              "        text-align: right;\n",
              "    }\n",
              "</style>\n",
              "<table border=\"1\" class=\"dataframe\">\n",
              "  <thead>\n",
              "    <tr style=\"text-align: right;\">\n",
              "      <th></th>\n",
              "      <th>ImageId</th>\n",
              "      <th>Label</th>\n",
              "    </tr>\n",
              "  </thead>\n",
              "  <tbody>\n",
              "    <tr>\n",
              "      <th>0</th>\n",
              "      <td>1</td>\n",
              "      <td>0</td>\n",
              "    </tr>\n",
              "    <tr>\n",
              "      <th>1</th>\n",
              "      <td>2</td>\n",
              "      <td>0</td>\n",
              "    </tr>\n",
              "    <tr>\n",
              "      <th>2</th>\n",
              "      <td>3</td>\n",
              "      <td>0</td>\n",
              "    </tr>\n",
              "    <tr>\n",
              "      <th>3</th>\n",
              "      <td>4</td>\n",
              "      <td>0</td>\n",
              "    </tr>\n",
              "    <tr>\n",
              "      <th>4</th>\n",
              "      <td>5</td>\n",
              "      <td>0</td>\n",
              "    </tr>\n",
              "  </tbody>\n",
              "</table>\n",
              "</div>\n",
              "      <button class=\"colab-df-convert\" onclick=\"convertToInteractive('df-f05c0633-fd57-4fa8-b361-014ce56a6c14')\"\n",
              "              title=\"Convert this dataframe to an interactive table.\"\n",
              "              style=\"display:none;\">\n",
              "        \n",
              "  <svg xmlns=\"http://www.w3.org/2000/svg\" height=\"24px\"viewBox=\"0 0 24 24\"\n",
              "       width=\"24px\">\n",
              "    <path d=\"M0 0h24v24H0V0z\" fill=\"none\"/>\n",
              "    <path d=\"M18.56 5.44l.94 2.06.94-2.06 2.06-.94-2.06-.94-.94-2.06-.94 2.06-2.06.94zm-11 1L8.5 8.5l.94-2.06 2.06-.94-2.06-.94L8.5 2.5l-.94 2.06-2.06.94zm10 10l.94 2.06.94-2.06 2.06-.94-2.06-.94-.94-2.06-.94 2.06-2.06.94z\"/><path d=\"M17.41 7.96l-1.37-1.37c-.4-.4-.92-.59-1.43-.59-.52 0-1.04.2-1.43.59L10.3 9.45l-7.72 7.72c-.78.78-.78 2.05 0 2.83L4 21.41c.39.39.9.59 1.41.59.51 0 1.02-.2 1.41-.59l7.78-7.78 2.81-2.81c.8-.78.8-2.07 0-2.86zM5.41 20L4 18.59l7.72-7.72 1.47 1.35L5.41 20z\"/>\n",
              "  </svg>\n",
              "      </button>\n",
              "      \n",
              "  <style>\n",
              "    .colab-df-container {\n",
              "      display:flex;\n",
              "      flex-wrap:wrap;\n",
              "      gap: 12px;\n",
              "    }\n",
              "\n",
              "    .colab-df-convert {\n",
              "      background-color: #E8F0FE;\n",
              "      border: none;\n",
              "      border-radius: 50%;\n",
              "      cursor: pointer;\n",
              "      display: none;\n",
              "      fill: #1967D2;\n",
              "      height: 32px;\n",
              "      padding: 0 0 0 0;\n",
              "      width: 32px;\n",
              "    }\n",
              "\n",
              "    .colab-df-convert:hover {\n",
              "      background-color: #E2EBFA;\n",
              "      box-shadow: 0px 1px 2px rgba(60, 64, 67, 0.3), 0px 1px 3px 1px rgba(60, 64, 67, 0.15);\n",
              "      fill: #174EA6;\n",
              "    }\n",
              "\n",
              "    [theme=dark] .colab-df-convert {\n",
              "      background-color: #3B4455;\n",
              "      fill: #D2E3FC;\n",
              "    }\n",
              "\n",
              "    [theme=dark] .colab-df-convert:hover {\n",
              "      background-color: #434B5C;\n",
              "      box-shadow: 0px 1px 3px 1px rgba(0, 0, 0, 0.15);\n",
              "      filter: drop-shadow(0px 1px 2px rgba(0, 0, 0, 0.3));\n",
              "      fill: #FFFFFF;\n",
              "    }\n",
              "  </style>\n",
              "\n",
              "      <script>\n",
              "        const buttonEl =\n",
              "          document.querySelector('#df-f05c0633-fd57-4fa8-b361-014ce56a6c14 button.colab-df-convert');\n",
              "        buttonEl.style.display =\n",
              "          google.colab.kernel.accessAllowed ? 'block' : 'none';\n",
              "\n",
              "        async function convertToInteractive(key) {\n",
              "          const element = document.querySelector('#df-f05c0633-fd57-4fa8-b361-014ce56a6c14');\n",
              "          const dataTable =\n",
              "            await google.colab.kernel.invokeFunction('convertToInteractive',\n",
              "                                                     [key], {});\n",
              "          if (!dataTable) return;\n",
              "\n",
              "          const docLinkHtml = 'Like what you see? Visit the ' +\n",
              "            '<a target=\"_blank\" href=https://colab.research.google.com/notebooks/data_table.ipynb>data table notebook</a>'\n",
              "            + ' to learn more about interactive tables.';\n",
              "          element.innerHTML = '';\n",
              "          dataTable['output_type'] = 'display_data';\n",
              "          await google.colab.output.renderOutput(dataTable, element);\n",
              "          const docLink = document.createElement('div');\n",
              "          docLink.innerHTML = docLinkHtml;\n",
              "          element.appendChild(docLink);\n",
              "        }\n",
              "      </script>\n",
              "    </div>\n",
              "  </div>\n",
              "  "
            ]
          },
          "metadata": {},
          "execution_count": 76
        }
      ]
    },
    {
      "cell_type": "code",
      "source": [
        "y_predict_cnn_batch_test = pd.DataFrame({\"ImageId\": df_test_batch[\"ImageId\"],\"Label\":result})\n",
        "y_predict_cnn_batch_test.to_csv(\"mnist_data_set_submission_v2.csv\",index=False)\n",
        "y_predict_cnn_batch_test"
      ],
      "metadata": {
        "colab": {
          "base_uri": "https://localhost:8080/",
          "height": 424
        },
        "id": "wF_SHBFZ7Iog",
        "outputId": "ea790336-3a2e-4819-f809-82234a726670"
      },
      "execution_count": null,
      "outputs": [
        {
          "output_type": "execute_result",
          "data": {
            "text/plain": [
              "       ImageId  Label\n",
              "0            1      2\n",
              "1            2      0\n",
              "2            3      9\n",
              "3            4      0\n",
              "4            5      3\n",
              "...        ...    ...\n",
              "27995    27996      9\n",
              "27996    27997      7\n",
              "27997    27998      3\n",
              "27998    27999      9\n",
              "27999    28000      2\n",
              "\n",
              "[28000 rows x 2 columns]"
            ],
            "text/html": [
              "\n",
              "  <div id=\"df-16a1310c-195f-4508-a806-eb3047af0d1c\">\n",
              "    <div class=\"colab-df-container\">\n",
              "      <div>\n",
              "<style scoped>\n",
              "    .dataframe tbody tr th:only-of-type {\n",
              "        vertical-align: middle;\n",
              "    }\n",
              "\n",
              "    .dataframe tbody tr th {\n",
              "        vertical-align: top;\n",
              "    }\n",
              "\n",
              "    .dataframe thead th {\n",
              "        text-align: right;\n",
              "    }\n",
              "</style>\n",
              "<table border=\"1\" class=\"dataframe\">\n",
              "  <thead>\n",
              "    <tr style=\"text-align: right;\">\n",
              "      <th></th>\n",
              "      <th>ImageId</th>\n",
              "      <th>Label</th>\n",
              "    </tr>\n",
              "  </thead>\n",
              "  <tbody>\n",
              "    <tr>\n",
              "      <th>0</th>\n",
              "      <td>1</td>\n",
              "      <td>2</td>\n",
              "    </tr>\n",
              "    <tr>\n",
              "      <th>1</th>\n",
              "      <td>2</td>\n",
              "      <td>0</td>\n",
              "    </tr>\n",
              "    <tr>\n",
              "      <th>2</th>\n",
              "      <td>3</td>\n",
              "      <td>9</td>\n",
              "    </tr>\n",
              "    <tr>\n",
              "      <th>3</th>\n",
              "      <td>4</td>\n",
              "      <td>0</td>\n",
              "    </tr>\n",
              "    <tr>\n",
              "      <th>4</th>\n",
              "      <td>5</td>\n",
              "      <td>3</td>\n",
              "    </tr>\n",
              "    <tr>\n",
              "      <th>...</th>\n",
              "      <td>...</td>\n",
              "      <td>...</td>\n",
              "    </tr>\n",
              "    <tr>\n",
              "      <th>27995</th>\n",
              "      <td>27996</td>\n",
              "      <td>9</td>\n",
              "    </tr>\n",
              "    <tr>\n",
              "      <th>27996</th>\n",
              "      <td>27997</td>\n",
              "      <td>7</td>\n",
              "    </tr>\n",
              "    <tr>\n",
              "      <th>27997</th>\n",
              "      <td>27998</td>\n",
              "      <td>3</td>\n",
              "    </tr>\n",
              "    <tr>\n",
              "      <th>27998</th>\n",
              "      <td>27999</td>\n",
              "      <td>9</td>\n",
              "    </tr>\n",
              "    <tr>\n",
              "      <th>27999</th>\n",
              "      <td>28000</td>\n",
              "      <td>2</td>\n",
              "    </tr>\n",
              "  </tbody>\n",
              "</table>\n",
              "<p>28000 rows × 2 columns</p>\n",
              "</div>\n",
              "      <button class=\"colab-df-convert\" onclick=\"convertToInteractive('df-16a1310c-195f-4508-a806-eb3047af0d1c')\"\n",
              "              title=\"Convert this dataframe to an interactive table.\"\n",
              "              style=\"display:none;\">\n",
              "        \n",
              "  <svg xmlns=\"http://www.w3.org/2000/svg\" height=\"24px\"viewBox=\"0 0 24 24\"\n",
              "       width=\"24px\">\n",
              "    <path d=\"M0 0h24v24H0V0z\" fill=\"none\"/>\n",
              "    <path d=\"M18.56 5.44l.94 2.06.94-2.06 2.06-.94-2.06-.94-.94-2.06-.94 2.06-2.06.94zm-11 1L8.5 8.5l.94-2.06 2.06-.94-2.06-.94L8.5 2.5l-.94 2.06-2.06.94zm10 10l.94 2.06.94-2.06 2.06-.94-2.06-.94-.94-2.06-.94 2.06-2.06.94z\"/><path d=\"M17.41 7.96l-1.37-1.37c-.4-.4-.92-.59-1.43-.59-.52 0-1.04.2-1.43.59L10.3 9.45l-7.72 7.72c-.78.78-.78 2.05 0 2.83L4 21.41c.39.39.9.59 1.41.59.51 0 1.02-.2 1.41-.59l7.78-7.78 2.81-2.81c.8-.78.8-2.07 0-2.86zM5.41 20L4 18.59l7.72-7.72 1.47 1.35L5.41 20z\"/>\n",
              "  </svg>\n",
              "      </button>\n",
              "      \n",
              "  <style>\n",
              "    .colab-df-container {\n",
              "      display:flex;\n",
              "      flex-wrap:wrap;\n",
              "      gap: 12px;\n",
              "    }\n",
              "\n",
              "    .colab-df-convert {\n",
              "      background-color: #E8F0FE;\n",
              "      border: none;\n",
              "      border-radius: 50%;\n",
              "      cursor: pointer;\n",
              "      display: none;\n",
              "      fill: #1967D2;\n",
              "      height: 32px;\n",
              "      padding: 0 0 0 0;\n",
              "      width: 32px;\n",
              "    }\n",
              "\n",
              "    .colab-df-convert:hover {\n",
              "      background-color: #E2EBFA;\n",
              "      box-shadow: 0px 1px 2px rgba(60, 64, 67, 0.3), 0px 1px 3px 1px rgba(60, 64, 67, 0.15);\n",
              "      fill: #174EA6;\n",
              "    }\n",
              "\n",
              "    [theme=dark] .colab-df-convert {\n",
              "      background-color: #3B4455;\n",
              "      fill: #D2E3FC;\n",
              "    }\n",
              "\n",
              "    [theme=dark] .colab-df-convert:hover {\n",
              "      background-color: #434B5C;\n",
              "      box-shadow: 0px 1px 3px 1px rgba(0, 0, 0, 0.15);\n",
              "      filter: drop-shadow(0px 1px 2px rgba(0, 0, 0, 0.3));\n",
              "      fill: #FFFFFF;\n",
              "    }\n",
              "  </style>\n",
              "\n",
              "      <script>\n",
              "        const buttonEl =\n",
              "          document.querySelector('#df-16a1310c-195f-4508-a806-eb3047af0d1c button.colab-df-convert');\n",
              "        buttonEl.style.display =\n",
              "          google.colab.kernel.accessAllowed ? 'block' : 'none';\n",
              "\n",
              "        async function convertToInteractive(key) {\n",
              "          const element = document.querySelector('#df-16a1310c-195f-4508-a806-eb3047af0d1c');\n",
              "          const dataTable =\n",
              "            await google.colab.kernel.invokeFunction('convertToInteractive',\n",
              "                                                     [key], {});\n",
              "          if (!dataTable) return;\n",
              "\n",
              "          const docLinkHtml = 'Like what you see? Visit the ' +\n",
              "            '<a target=\"_blank\" href=https://colab.research.google.com/notebooks/data_table.ipynb>data table notebook</a>'\n",
              "            + ' to learn more about interactive tables.';\n",
              "          element.innerHTML = '';\n",
              "          dataTable['output_type'] = 'display_data';\n",
              "          await google.colab.output.renderOutput(dataTable, element);\n",
              "          const docLink = document.createElement('div');\n",
              "          docLink.innerHTML = docLinkHtml;\n",
              "          element.appendChild(docLink);\n",
              "        }\n",
              "      </script>\n",
              "    </div>\n",
              "  </div>\n",
              "  "
            ]
          },
          "metadata": {},
          "execution_count": 77
        }
      ]
    },
    {
      "cell_type": "markdown",
      "source": [
        "![image.png](data:image/png;base64,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)"
      ],
      "metadata": {
        "id": "YJRQKp5yELQx"
      }
    },
    {
      "cell_type": "code",
      "source": [
        "!tar -czvf mnist.tar.gz ./saved_model"
      ],
      "metadata": {
        "colab": {
          "base_uri": "https://localhost:8080/"
        },
        "id": "b-i4TY0NfkBk",
        "outputId": "ec8e72ac-ab0d-405e-9bbf-2fd3456051c5"
      },
      "execution_count": null,
      "outputs": [
        {
          "output_type": "stream",
          "name": "stdout",
          "text": [
            "./saved_model/\n",
            "./saved_model/my_model/\n",
            "./saved_model/my_model/saved_model.pb\n",
            "./saved_model/my_model/assets/\n",
            "./saved_model/my_model/variables/\n",
            "./saved_model/my_model/variables/variables.index\n",
            "./saved_model/my_model/variables/variables.data-00000-of-00001\n"
          ]
        }
      ]
    },
    {
      "cell_type": "code",
      "source": [
        "!tar -czvf mnist_v1.tar.gz ./saved_model_v2"
      ],
      "metadata": {
        "colab": {
          "base_uri": "https://localhost:8080/"
        },
        "id": "YwTXs3I3iQOu",
        "outputId": "ada236b1-b02c-40c0-876b-0306b65b60b9"
      },
      "execution_count": null,
      "outputs": [
        {
          "output_type": "stream",
          "name": "stdout",
          "text": [
            "./saved_model_v2/\n",
            "./saved_model_v2/my_model_v2/\n",
            "./saved_model_v2/my_model_v2/saved_model.pb\n",
            "./saved_model_v2/my_model_v2/assets/\n",
            "./saved_model_v2/my_model_v2/variables/\n",
            "./saved_model_v2/my_model_v2/variables/variables.index\n",
            "./saved_model_v2/my_model_v2/variables/variables.data-00000-of-00001\n"
          ]
        }
      ]
    }
  ]
}